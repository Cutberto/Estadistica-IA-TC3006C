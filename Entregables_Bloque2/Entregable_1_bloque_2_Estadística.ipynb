{
  "nbformat": 4,
  "nbformat_minor": 0,
  "metadata": {
    "colab": {
      "provenance": [],
      "collapsed_sections": []
    },
    "kernelspec": {
      "name": "python3",
      "display_name": "Python 3"
    },
    "language_info": {
      "name": "python"
    }
  },
  "cells": [
    {
      "cell_type": "code",
      "execution_count": 2,
      "metadata": {
        "id": "li2mz447u_Sh",
        "colab": {
          "base_uri": "https://localhost:8080/"
        },
        "outputId": "df0231cb-1b8d-4307-fc6d-2a04edb96084"
      },
      "outputs": [
        {
          "output_type": "stream",
          "name": "stdout",
          "text": [
            "Mounted at /content/gdrive\n",
            "/content\n",
            "/content/gdrive/MyDrive/IA95022\n",
            " bezdekIris.data\t      notebookdc8e90834b.ipynb\n",
            " class_060922_starter.ipynb  'Store Sales'\n",
            " DryBeanDataset\t\t      train.csv\n",
            " Index\t\t\t      tutorial_checkpoints\n",
            " Indicadores.csv\t      tutorial_checkpoints_best\n",
            " Indicadores.xlsx\t      us2022q2a.csv\n",
            " iris.data\t\t      usfirms2022.csv\n",
            " iris.names\t\t      Wine\n",
            "'Modulo 4'\n"
          ]
        }
      ],
      "source": [
        "from google.colab import drive\n",
        "import numpy as np\n",
        "import pandas as pd\n",
        "drive.mount(\"/content/gdrive\")  \n",
        "!pwd  # show current path \n",
        "\n",
        "%cd \"/content/gdrive/MyDrive/IA95022\"\n",
        "!ls  # show current directory"
      ]
    },
    {
      "cell_type": "markdown",
      "source": [
        "# Carga de datos (importado del entregable anterior)"
      ],
      "metadata": {
        "id": "oD02ImaxxdJB"
      }
    },
    {
      "cell_type": "code",
      "execution_count": 3,
      "metadata": {
        "id": "NDzesydCxh1n"
      },
      "outputs": [],
      "source": [
        "# Carga de datos\n",
        "usdata = pd.read_csv('us2022q2a.csv')\n",
        "usfirms = pd.read_csv('usfirms2022.csv')\n",
        "# Unimos la información de ambos datasets en un solo dataframe\n",
        "usfirms.columns = usfirms.columns.str.replace('Ticker', 'firm')\n",
        "df = pd.merge(usfirms, usdata, on=\"firm\")\n",
        "\n",
        "# Se obtienen los valores calculados \n",
        "df['qdate'] = pd.PeriodIndex(df['q'], freq=\"Q\")\n",
        "df.set_index(['firm', 'qdate'], drop = True)\n",
        "df = df.replace(0,np.nan)\n",
        "df['lprice'] = df.groupby(['firm'])['adjprice'].shift(4)\n",
        "df['r'] = np.log(df['adjprice']) - np.log(df['lprice'])\n",
        "df['r2']= np.log(df['adjprice']) - np.log(df.groupby(['firm'])['adjprice'].shift(4))\n",
        "df.loc['ADT': 'ADTN', ['adjprice', 'lprice', 'r', 'r2']].iloc[85:96,]\n",
        "df[['q', 'adjprice', 'lprice']]\n",
        "df.loc['ADT': 'ADTN', ['adjprice', 'lprice']].iloc[84:98]\n",
        "df[\"ReturnOnNextQuarter\"] = df.groupby([\"firm\"])[\"r2\"].shift(-1)\n",
        "# Calculamos las variables para cada instancia de los datos\n",
        "df['Book'] = df['totalassets'] - df['totalliabilities']\n",
        "df['Market'] = df['originalprice'] * df['sharesoutstanding']\n",
        "df[\"Ebit\"] = df[\"revenue\"] - df[\"cogs\"] - df[\"sgae\"] - df[\"otheropexp\"]\n",
        "df[\"OPM\"] = df[\"Ebit\"] / df[\"revenue\"]\n",
        "df[\"Net income\"] = df[\"Ebit\"] - df[\"incometax\"] - df[\"finexp\"]\n",
        "df[\"Profit margin\"] = df[\"Net income\"] / df[\"revenue\"]\n",
        "\n",
        "df = df.replace(np.nan,0)\n"
      ]
    },
    {
      "cell_type": "code",
      "source": [
        "from scipy.stats.mstats import winsorize\n",
        "# Seleccionamos solo los valores que nos serán de utilidad en este análisis\n",
        "rslt_df = df.loc[df[\"Sector NAICS\\nlevel 1\"].isin(['Finance and Insurance', 'Real Estate and Rental and Leasing'  ])]\n",
        "df_analysis = rslt_df[['firm','q','r2', 'originalprice', 'ReturnOnNextQuarter', 'cogs', 'sgae', 'otheropexp', 'revenue', 'Ebit','OPM', 'Book', 'Market', 'Profit margin']]\n",
        "mask = df_analysis['q']=='2022q1' \n",
        "df_analysis = df_analysis[mask]\n",
        "# Calculamos las nuevas variables \n",
        "#primero llenamos los NaN en todos los valores nulos en los divisores\n",
        "df = df.replace(0,np.nan)\n",
        "df_analysis = df_analysis.replace(0,np.nan)\n",
        "\n",
        "df_analysis[\"Ebit\"] = df[\"Ebit\"].fillna(0)\n",
        "df_analysis[\"OPM\"] = df[\"Ebit\"] / df[\"revenue\"]\n",
        "df_analysis['BookToMarketRatio'] = df['Book'] / df['Market']\n",
        "df_analysis['ShortFinancialLeverage'] = df[\"shortdebt\"] / df[\"totalassets\"] \n",
        "df_analysis['LongFinancialLeverage'] = df[\"longdebt\"] / df[\"totalassets\"] \n",
        "df_analysis['OperatingProfitGrowth'] = (df[\"Ebit\"] - df[\"Ebit\"].shift(4)) - 1\n",
        "df_analysis['SalesAnnualGrowth'] = (df[\"revenue\"] / df[\"revenue\"].shift(4)) - 1 \n",
        "df_analysis['EPS'] = df[\"Net income\"] / df[\"sharesoutstanding\"]\n",
        "df_analysis[\"lprice\"] = df[\"lprice\"]\n",
        "df_analysis['EPSP'] =  df_analysis[\"EPS\"] / df_analysis[\"originalprice\"]\n",
        "df_analysis['Size'] =  df[\"Market\"] \n",
        "\n",
        "# Aplicamos la winzorización a nuestros ratios\n",
        "df_analysis[\"OPM\"] = winsorize(df_analysis[\"OPM\"], limits=[0.0001, 0.02])\n",
        "df_analysis[\"BookToMarketRatio\"] = winsorize(df_analysis[\"BookToMarketRatio\"], limits=[0.0001, 0.02])\n",
        "df_analysis[\"ShortFinancialLeverage\"] = winsorize(df_analysis[\"ShortFinancialLeverage\"], limits=[0.0001, 0.02])\n",
        "df_analysis[\"OperatingProfitGrowth\"] = winsorize(df_analysis[\"OperatingProfitGrowth\"], limits=[0.0001, 0.02])\n",
        "df_analysis[\"EPSP\"] = winsorize(df_analysis[\"EPSP\"], limits=[0.0001, 0.02])\n",
        "df_analysis[\"OperatingProfitGrowth\"] = winsorize(df_analysis[\"OperatingProfitGrowth\"], limits=[0.0001, 0.02])\n",
        "df_analysis[\"SalesAnnualGrowth\"] = winsorize(df_analysis[\"SalesAnnualGrowth\"], limits=[0.0001, 0.02])\n",
        "\n",
        "df_analysis = df_analysis.replace(np.nan,0)"
      ],
      "metadata": {
        "id": "RsUH0jMBkjyq"
      },
      "execution_count": 4,
      "outputs": []
    },
    {
      "cell_type": "code",
      "source": [
        "# En este código lo que se hace es regresar el valor del percentil con respecto al set de datos que recibe la función.\n",
        "# Esta función va a recibir uno por uno cada quarter, lo que nos hara que regrese el valor del percentil para cada instancia \n",
        "# CON RESPECTO A SU QUARTER, NO CON RESPECTO A TODO EL SET DE DATOS\n",
        "\n",
        "def dense_inclusive_pct(x):\n",
        "    r = x.rank(method='dense') - 1\n",
        "    return r / r.max() * 100\n",
        "\n",
        "# Aqui mandamos a llamar dicha funcion de tal forma que se llame para cada quarter\n",
        "df_analysis[\"pct\"]=df_analysis.groupby('q').Market.apply(dense_inclusive_pct).astype(int)\n",
        "# Aqui genero las variables dummies en base a lo mencionado previamente.\n",
        "df_analysis[\"small?\"] = df_analysis.pct <= 33\n",
        "df_analysis[\"small?\"] = df_analysis[\"small?\"].astype(int)\n",
        "df_analysis[\"medium?\"] = (df_analysis.pct <= 66) & (df_analysis.pct > 33) \n",
        "df_analysis[\"medium?\"] = df_analysis[\"medium?\"].astype(int)"
      ],
      "metadata": {
        "id": "nEjESYfpgC60"
      },
      "execution_count": 5,
      "outputs": []
    },
    {
      "cell_type": "code",
      "source": [
        "df_analysis.columns"
      ],
      "metadata": {
        "colab": {
          "base_uri": "https://localhost:8080/"
        },
        "id": "7uBLpE2-cQ2P",
        "outputId": "636f4172-82fa-4558-a97c-6c21fcf515a8"
      },
      "execution_count": 6,
      "outputs": [
        {
          "output_type": "execute_result",
          "data": {
            "text/plain": [
              "Index(['firm', 'q', 'r2', 'originalprice', 'ReturnOnNextQuarter', 'cogs',\n",
              "       'sgae', 'otheropexp', 'revenue', 'Ebit', 'OPM', 'Book', 'Market',\n",
              "       'Profit margin', 'BookToMarketRatio', 'ShortFinancialLeverage',\n",
              "       'LongFinancialLeverage', 'OperatingProfitGrowth', 'SalesAnnualGrowth',\n",
              "       'EPS', 'lprice', 'EPSP', 'Size', 'pct', 'small?', 'medium?'],\n",
              "      dtype='object')"
            ]
          },
          "metadata": {},
          "execution_count": 6
        }
      ]
    },
    {
      "cell_type": "code",
      "source": [
        "\n",
        "#add constant to predictor variables\n",
        "X = df_analysis[[\"EPSP\", \"OPM\", \"LongFinancialLeverage\", \"small?\", \"medium?\"]]\n",
        "\n",
        "y = df_analysis[\"ReturnOnNextQuarter\"]"
      ],
      "metadata": {
        "id": "l1KcqrAnDNjh"
      },
      "execution_count": 7,
      "outputs": []
    },
    {
      "cell_type": "markdown",
      "source": [
        "# Análisis exploratorio de las variables\n"
      ],
      "metadata": {
        "id": "NIxclSyQ5_U9"
      }
    },
    {
      "cell_type": "markdown",
      "source": [
        "## Matriz de varianza y covarianza"
      ],
      "metadata": {
        "id": "6WukaztL6HpP"
      }
    },
    {
      "cell_type": "markdown",
      "source": [
        "La varianza es una medida de dispersión que nos indica que tanto cambia un conjunto de datos comparado con su promedio. Nos es muy útil para darnos una idea del poder explicativo del promedio, ya que si la varianza es baja entonces el promedio nos da una imagen muy clara de qué podemos obtener al tomar cualquier valor del set de datos.\n",
        "\n",
        "La covarianza se obtiene al aplicar este concepto comparando dos conjuntos diferentes de datos. Nos ayuda a contestar preguntas como: ¿Qué pasa con X cuando Y incrementa? \n",
        "\n",
        "A continuación, se obtendrá una matriz que incluya los valores de la varianza y covarianza obtenidos al comparar entre sí las distintas variables en nuestro set de datos."
      ],
      "metadata": {
        "id": "UBMl8rEfx2du"
      }
    },
    {
      "cell_type": "code",
      "source": [
        "#Implementamos manualmente la obtención de la matriz de varianza y covarianza\n",
        "import numpy as np\n",
        "def matriz_var_cov(X):\n",
        "  #Obtenemos la diferencia entre X y su promedio\n",
        "  X-= X.mean(axis=1)[:,None]\n",
        "  #Guardamos la cantidad de filas/instancias de datos en una variable\n",
        "  N = X.shape[1] - 1\n",
        "  #Ahora utilizaremos una fórmula de álgebra matricial para obtener las varianzas y covarianzas.\n",
        "  #Tomaremos la matriz de diferencias con el promedio y la transpondremos. Después, obtenemos su \n",
        "  #complex conjugate.  \n",
        "  #Después obtendremos el producto punto de la matriz de diferencias y la matriz calculada previamente.\n",
        "  #El resultado lo dividiremos entre la cantidad de datos, y habremos obtenido la matriz de varianzas y covarianzas \n",
        "  return np.dot(X, X.T.conj())/float(N)"
      ],
      "metadata": {
        "id": "NRPZ0TzJ0r77"
      },
      "execution_count": 8,
      "outputs": []
    },
    {
      "cell_type": "code",
      "source": [
        "#Usamos una variable temporal para transponer nuestras variables X, y convertilas en un array de numpy\n",
        "temp= X.T.to_numpy()"
      ],
      "metadata": {
        "id": "IvbA0Somqo3F"
      },
      "execution_count": 9,
      "outputs": []
    },
    {
      "cell_type": "code",
      "source": [
        "# Obtenemos nuestra matriz de varianzas y covarianzas usando la función que se implementó previamente\n",
        "my_variance_covariance_matrix = matriz_var_cov(temp)\n",
        "\n",
        "#La convertimos en un dataframe para su mejor visualización\n",
        "my_variance_covariance_matrix_df = pd.DataFrame(my_variance_covariance_matrix)\n",
        "my_variance_covariance_matrix_df"
      ],
      "metadata": {
        "id": "alWOKwIP1eTC",
        "colab": {
          "base_uri": "https://localhost:8080/",
          "height": 206
        },
        "outputId": "a2eaa2fb-0ae3-4a38-cb4a-fcd5d3c95312"
      },
      "execution_count": 10,
      "outputs": [
        {
          "output_type": "execute_result",
          "data": {
            "text/plain": [
              "          0         1         2         3         4\n",
              "0  0.000094  0.000554 -0.000171 -0.000458 -0.000023\n",
              "1  0.000554  0.073277  0.003744  0.000962 -0.006919\n",
              "2 -0.000171  0.003744  0.053365 -0.024379  0.012632\n",
              "3 -0.000458  0.000962 -0.024379  0.226549 -0.113049\n",
              "4 -0.000023 -0.006919  0.012632 -0.113049  0.220149"
            ],
            "text/html": [
              "\n",
              "  <div id=\"df-2dd1d314-70cc-4df2-bb66-0a62f663d31a\">\n",
              "    <div class=\"colab-df-container\">\n",
              "      <div>\n",
              "<style scoped>\n",
              "    .dataframe tbody tr th:only-of-type {\n",
              "        vertical-align: middle;\n",
              "    }\n",
              "\n",
              "    .dataframe tbody tr th {\n",
              "        vertical-align: top;\n",
              "    }\n",
              "\n",
              "    .dataframe thead th {\n",
              "        text-align: right;\n",
              "    }\n",
              "</style>\n",
              "<table border=\"1\" class=\"dataframe\">\n",
              "  <thead>\n",
              "    <tr style=\"text-align: right;\">\n",
              "      <th></th>\n",
              "      <th>0</th>\n",
              "      <th>1</th>\n",
              "      <th>2</th>\n",
              "      <th>3</th>\n",
              "      <th>4</th>\n",
              "    </tr>\n",
              "  </thead>\n",
              "  <tbody>\n",
              "    <tr>\n",
              "      <th>0</th>\n",
              "      <td>0.000094</td>\n",
              "      <td>0.000554</td>\n",
              "      <td>-0.000171</td>\n",
              "      <td>-0.000458</td>\n",
              "      <td>-0.000023</td>\n",
              "    </tr>\n",
              "    <tr>\n",
              "      <th>1</th>\n",
              "      <td>0.000554</td>\n",
              "      <td>0.073277</td>\n",
              "      <td>0.003744</td>\n",
              "      <td>0.000962</td>\n",
              "      <td>-0.006919</td>\n",
              "    </tr>\n",
              "    <tr>\n",
              "      <th>2</th>\n",
              "      <td>-0.000171</td>\n",
              "      <td>0.003744</td>\n",
              "      <td>0.053365</td>\n",
              "      <td>-0.024379</td>\n",
              "      <td>0.012632</td>\n",
              "    </tr>\n",
              "    <tr>\n",
              "      <th>3</th>\n",
              "      <td>-0.000458</td>\n",
              "      <td>0.000962</td>\n",
              "      <td>-0.024379</td>\n",
              "      <td>0.226549</td>\n",
              "      <td>-0.113049</td>\n",
              "    </tr>\n",
              "    <tr>\n",
              "      <th>4</th>\n",
              "      <td>-0.000023</td>\n",
              "      <td>-0.006919</td>\n",
              "      <td>0.012632</td>\n",
              "      <td>-0.113049</td>\n",
              "      <td>0.220149</td>\n",
              "    </tr>\n",
              "  </tbody>\n",
              "</table>\n",
              "</div>\n",
              "      <button class=\"colab-df-convert\" onclick=\"convertToInteractive('df-2dd1d314-70cc-4df2-bb66-0a62f663d31a')\"\n",
              "              title=\"Convert this dataframe to an interactive table.\"\n",
              "              style=\"display:none;\">\n",
              "        \n",
              "  <svg xmlns=\"http://www.w3.org/2000/svg\" height=\"24px\"viewBox=\"0 0 24 24\"\n",
              "       width=\"24px\">\n",
              "    <path d=\"M0 0h24v24H0V0z\" fill=\"none\"/>\n",
              "    <path d=\"M18.56 5.44l.94 2.06.94-2.06 2.06-.94-2.06-.94-.94-2.06-.94 2.06-2.06.94zm-11 1L8.5 8.5l.94-2.06 2.06-.94-2.06-.94L8.5 2.5l-.94 2.06-2.06.94zm10 10l.94 2.06.94-2.06 2.06-.94-2.06-.94-.94-2.06-.94 2.06-2.06.94z\"/><path d=\"M17.41 7.96l-1.37-1.37c-.4-.4-.92-.59-1.43-.59-.52 0-1.04.2-1.43.59L10.3 9.45l-7.72 7.72c-.78.78-.78 2.05 0 2.83L4 21.41c.39.39.9.59 1.41.59.51 0 1.02-.2 1.41-.59l7.78-7.78 2.81-2.81c.8-.78.8-2.07 0-2.86zM5.41 20L4 18.59l7.72-7.72 1.47 1.35L5.41 20z\"/>\n",
              "  </svg>\n",
              "      </button>\n",
              "      \n",
              "  <style>\n",
              "    .colab-df-container {\n",
              "      display:flex;\n",
              "      flex-wrap:wrap;\n",
              "      gap: 12px;\n",
              "    }\n",
              "\n",
              "    .colab-df-convert {\n",
              "      background-color: #E8F0FE;\n",
              "      border: none;\n",
              "      border-radius: 50%;\n",
              "      cursor: pointer;\n",
              "      display: none;\n",
              "      fill: #1967D2;\n",
              "      height: 32px;\n",
              "      padding: 0 0 0 0;\n",
              "      width: 32px;\n",
              "    }\n",
              "\n",
              "    .colab-df-convert:hover {\n",
              "      background-color: #E2EBFA;\n",
              "      box-shadow: 0px 1px 2px rgba(60, 64, 67, 0.3), 0px 1px 3px 1px rgba(60, 64, 67, 0.15);\n",
              "      fill: #174EA6;\n",
              "    }\n",
              "\n",
              "    [theme=dark] .colab-df-convert {\n",
              "      background-color: #3B4455;\n",
              "      fill: #D2E3FC;\n",
              "    }\n",
              "\n",
              "    [theme=dark] .colab-df-convert:hover {\n",
              "      background-color: #434B5C;\n",
              "      box-shadow: 0px 1px 3px 1px rgba(0, 0, 0, 0.15);\n",
              "      filter: drop-shadow(0px 1px 2px rgba(0, 0, 0, 0.3));\n",
              "      fill: #FFFFFF;\n",
              "    }\n",
              "  </style>\n",
              "\n",
              "      <script>\n",
              "        const buttonEl =\n",
              "          document.querySelector('#df-2dd1d314-70cc-4df2-bb66-0a62f663d31a button.colab-df-convert');\n",
              "        buttonEl.style.display =\n",
              "          google.colab.kernel.accessAllowed ? 'block' : 'none';\n",
              "\n",
              "        async function convertToInteractive(key) {\n",
              "          const element = document.querySelector('#df-2dd1d314-70cc-4df2-bb66-0a62f663d31a');\n",
              "          const dataTable =\n",
              "            await google.colab.kernel.invokeFunction('convertToInteractive',\n",
              "                                                     [key], {});\n",
              "          if (!dataTable) return;\n",
              "\n",
              "          const docLinkHtml = 'Like what you see? Visit the ' +\n",
              "            '<a target=\"_blank\" href=https://colab.research.google.com/notebooks/data_table.ipynb>data table notebook</a>'\n",
              "            + ' to learn more about interactive tables.';\n",
              "          element.innerHTML = '';\n",
              "          dataTable['output_type'] = 'display_data';\n",
              "          await google.colab.output.renderOutput(dataTable, element);\n",
              "          const docLink = document.createElement('div');\n",
              "          docLink.innerHTML = docLinkHtml;\n",
              "          element.appendChild(docLink);\n",
              "        }\n",
              "      </script>\n",
              "    </div>\n",
              "  </div>\n",
              "  "
            ]
          },
          "metadata": {},
          "execution_count": 10
        }
      ]
    },
    {
      "cell_type": "code",
      "source": [
        "#Validamos la matriz de varianza y covarianza utilizando la función cov de pandas\n",
        "test = X.cov()\n",
        "test"
      ],
      "metadata": {
        "id": "eYPHfeWRwIlo",
        "colab": {
          "base_uri": "https://localhost:8080/",
          "height": 270
        },
        "outputId": "ae66f155-64c8-46d3-f57c-9bf2fdacf0c2"
      },
      "execution_count": 11,
      "outputs": [
        {
          "output_type": "execute_result",
          "data": {
            "text/plain": [
              "                           EPSP       OPM  LongFinancialLeverage    small?  \\\n",
              "EPSP                   0.000094  0.000554              -0.000171 -0.000458   \n",
              "OPM                    0.000554  0.073277               0.003744  0.000962   \n",
              "LongFinancialLeverage -0.000171  0.003744               0.053365 -0.024379   \n",
              "small?                -0.000458  0.000962              -0.024379  0.226549   \n",
              "medium?               -0.000023 -0.006919               0.012632 -0.113049   \n",
              "\n",
              "                        medium?  \n",
              "EPSP                  -0.000023  \n",
              "OPM                   -0.006919  \n",
              "LongFinancialLeverage  0.012632  \n",
              "small?                -0.113049  \n",
              "medium?                0.220149  "
            ],
            "text/html": [
              "\n",
              "  <div id=\"df-1fd57e27-7556-40d8-83f0-f9b9660ff2eb\">\n",
              "    <div class=\"colab-df-container\">\n",
              "      <div>\n",
              "<style scoped>\n",
              "    .dataframe tbody tr th:only-of-type {\n",
              "        vertical-align: middle;\n",
              "    }\n",
              "\n",
              "    .dataframe tbody tr th {\n",
              "        vertical-align: top;\n",
              "    }\n",
              "\n",
              "    .dataframe thead th {\n",
              "        text-align: right;\n",
              "    }\n",
              "</style>\n",
              "<table border=\"1\" class=\"dataframe\">\n",
              "  <thead>\n",
              "    <tr style=\"text-align: right;\">\n",
              "      <th></th>\n",
              "      <th>EPSP</th>\n",
              "      <th>OPM</th>\n",
              "      <th>LongFinancialLeverage</th>\n",
              "      <th>small?</th>\n",
              "      <th>medium?</th>\n",
              "    </tr>\n",
              "  </thead>\n",
              "  <tbody>\n",
              "    <tr>\n",
              "      <th>EPSP</th>\n",
              "      <td>0.000094</td>\n",
              "      <td>0.000554</td>\n",
              "      <td>-0.000171</td>\n",
              "      <td>-0.000458</td>\n",
              "      <td>-0.000023</td>\n",
              "    </tr>\n",
              "    <tr>\n",
              "      <th>OPM</th>\n",
              "      <td>0.000554</td>\n",
              "      <td>0.073277</td>\n",
              "      <td>0.003744</td>\n",
              "      <td>0.000962</td>\n",
              "      <td>-0.006919</td>\n",
              "    </tr>\n",
              "    <tr>\n",
              "      <th>LongFinancialLeverage</th>\n",
              "      <td>-0.000171</td>\n",
              "      <td>0.003744</td>\n",
              "      <td>0.053365</td>\n",
              "      <td>-0.024379</td>\n",
              "      <td>0.012632</td>\n",
              "    </tr>\n",
              "    <tr>\n",
              "      <th>small?</th>\n",
              "      <td>-0.000458</td>\n",
              "      <td>0.000962</td>\n",
              "      <td>-0.024379</td>\n",
              "      <td>0.226549</td>\n",
              "      <td>-0.113049</td>\n",
              "    </tr>\n",
              "    <tr>\n",
              "      <th>medium?</th>\n",
              "      <td>-0.000023</td>\n",
              "      <td>-0.006919</td>\n",
              "      <td>0.012632</td>\n",
              "      <td>-0.113049</td>\n",
              "      <td>0.220149</td>\n",
              "    </tr>\n",
              "  </tbody>\n",
              "</table>\n",
              "</div>\n",
              "      <button class=\"colab-df-convert\" onclick=\"convertToInteractive('df-1fd57e27-7556-40d8-83f0-f9b9660ff2eb')\"\n",
              "              title=\"Convert this dataframe to an interactive table.\"\n",
              "              style=\"display:none;\">\n",
              "        \n",
              "  <svg xmlns=\"http://www.w3.org/2000/svg\" height=\"24px\"viewBox=\"0 0 24 24\"\n",
              "       width=\"24px\">\n",
              "    <path d=\"M0 0h24v24H0V0z\" fill=\"none\"/>\n",
              "    <path d=\"M18.56 5.44l.94 2.06.94-2.06 2.06-.94-2.06-.94-.94-2.06-.94 2.06-2.06.94zm-11 1L8.5 8.5l.94-2.06 2.06-.94-2.06-.94L8.5 2.5l-.94 2.06-2.06.94zm10 10l.94 2.06.94-2.06 2.06-.94-2.06-.94-.94-2.06-.94 2.06-2.06.94z\"/><path d=\"M17.41 7.96l-1.37-1.37c-.4-.4-.92-.59-1.43-.59-.52 0-1.04.2-1.43.59L10.3 9.45l-7.72 7.72c-.78.78-.78 2.05 0 2.83L4 21.41c.39.39.9.59 1.41.59.51 0 1.02-.2 1.41-.59l7.78-7.78 2.81-2.81c.8-.78.8-2.07 0-2.86zM5.41 20L4 18.59l7.72-7.72 1.47 1.35L5.41 20z\"/>\n",
              "  </svg>\n",
              "      </button>\n",
              "      \n",
              "  <style>\n",
              "    .colab-df-container {\n",
              "      display:flex;\n",
              "      flex-wrap:wrap;\n",
              "      gap: 12px;\n",
              "    }\n",
              "\n",
              "    .colab-df-convert {\n",
              "      background-color: #E8F0FE;\n",
              "      border: none;\n",
              "      border-radius: 50%;\n",
              "      cursor: pointer;\n",
              "      display: none;\n",
              "      fill: #1967D2;\n",
              "      height: 32px;\n",
              "      padding: 0 0 0 0;\n",
              "      width: 32px;\n",
              "    }\n",
              "\n",
              "    .colab-df-convert:hover {\n",
              "      background-color: #E2EBFA;\n",
              "      box-shadow: 0px 1px 2px rgba(60, 64, 67, 0.3), 0px 1px 3px 1px rgba(60, 64, 67, 0.15);\n",
              "      fill: #174EA6;\n",
              "    }\n",
              "\n",
              "    [theme=dark] .colab-df-convert {\n",
              "      background-color: #3B4455;\n",
              "      fill: #D2E3FC;\n",
              "    }\n",
              "\n",
              "    [theme=dark] .colab-df-convert:hover {\n",
              "      background-color: #434B5C;\n",
              "      box-shadow: 0px 1px 3px 1px rgba(0, 0, 0, 0.15);\n",
              "      filter: drop-shadow(0px 1px 2px rgba(0, 0, 0, 0.3));\n",
              "      fill: #FFFFFF;\n",
              "    }\n",
              "  </style>\n",
              "\n",
              "      <script>\n",
              "        const buttonEl =\n",
              "          document.querySelector('#df-1fd57e27-7556-40d8-83f0-f9b9660ff2eb button.colab-df-convert');\n",
              "        buttonEl.style.display =\n",
              "          google.colab.kernel.accessAllowed ? 'block' : 'none';\n",
              "\n",
              "        async function convertToInteractive(key) {\n",
              "          const element = document.querySelector('#df-1fd57e27-7556-40d8-83f0-f9b9660ff2eb');\n",
              "          const dataTable =\n",
              "            await google.colab.kernel.invokeFunction('convertToInteractive',\n",
              "                                                     [key], {});\n",
              "          if (!dataTable) return;\n",
              "\n",
              "          const docLinkHtml = 'Like what you see? Visit the ' +\n",
              "            '<a target=\"_blank\" href=https://colab.research.google.com/notebooks/data_table.ipynb>data table notebook</a>'\n",
              "            + ' to learn more about interactive tables.';\n",
              "          element.innerHTML = '';\n",
              "          dataTable['output_type'] = 'display_data';\n",
              "          await google.colab.output.renderOutput(dataTable, element);\n",
              "          const docLink = document.createElement('div');\n",
              "          docLink.innerHTML = docLinkHtml;\n",
              "          element.appendChild(docLink);\n",
              "        }\n",
              "      </script>\n",
              "    </div>\n",
              "  </div>\n",
              "  "
            ]
          },
          "metadata": {},
          "execution_count": 11
        }
      ]
    },
    {
      "cell_type": "markdown",
      "source": [
        "## Matriz de correlación"
      ],
      "metadata": {
        "id": "VLglMPrR6VKr"
      }
    },
    {
      "cell_type": "markdown",
      "source": [
        "La correlación es una medida que determina el grado de asociación que tiene el cambio de dos variables. En este caso particular, hablaremos de la correlación en relaciones lineales de dos variables: el coeficiente de correlación de Pearson.\n",
        "![image.png](data:image/png;base64,iVBORw0KGgoAAAANSUhEUgAAAVIAAABoCAYAAACjQ3iQAAAAAXNSR0IArs4c6QAAAARnQU1BAACxjwv8YQUAAAAJcEhZcwAADsMAAA7DAcdvqGQAABetSURBVHhe7d0PVJPnvQfwr/YP7rRnFN2NW3eu3LozYfcMrLciuo7U3Wvg3M4IVxHWDqGrwNxFcA7ROlBvW+hahPYWxW6A3bVg7xxxE9KtlbCrhu6qpGtHWDfAU0vo0ZnUeohXt6S1e+7z/knInzch8AKK/j7nvCR5Q5I3b5Lv+7zP+zzPO+Pdd99ld955J+644w7cdttt3mnmzJneS6VpxowZfpPAc0kIIbeSmfIlIYSQcaIgJYQQlShICSFEJQpSQghRiYKUEEJUoiAlhBCVKEgJIUQlClJCCFGJgpQQQlSiICWEEJUoSAkhRCUKUkIIUYmClBBCVKIgJYQQlShICSFEJQpSQghRiYKUEEJUoiAlhBCVKEgJIUQlClJCCFGJgpQQQlSiICWEEJUoSAkhRCUKUkIIUYmClBAyuqsW1BbUw+qWb9+ozrRg6x4LpnoxKUgJIaOwwfBEM2J3FCExSp7l5YRpVwYy0pcifvZszBanRch+ZUC6u7cJGYvl+fFLkbE6A1WdTuk+Be5T9eL/pHkesziN366FxS8ZB9DyHc/rLUIa///aU/I/fDkHW+Y1Ivslq3R7isx499132Z133ok77rgDt912m3eaOXOm91JpmjFjht8kPpl8SQi5edheycZWVONQbqw8R4kTxuL7kHcwCdWnjyL/y/JsztFWiHXWtWjeroPmdnnmKNzHd+ALq+uB4iP485NaBOX3kAGFT9ix8SUe7tHyPC8HDN9ZB/sPjqIoQZ41yahESggJ7aoZTc/MRc43w4WoIBratBx+aUHLGz6lQR54lZ2paNgReYgKopbpUCRc2WPC6cD9dKGaobgD+hqlEBVooH9ciz0NRh7vU4OClBASkvOYAfXZmUidI88IIzpFj3x+aTV0QYxSIfB22bDu2UyMFsNBohZC+7hwpR6mk75JaoNhSxWwYw/098qzFEQtScE6UwuMZ+UZk4yClBASggOmwy3I/Kf44F1rJdFarCzml717YHrLBqMQeCUbkXSXdPfYRGPJCiGWeZS+ZpZLlm5YdheiddmLKF08yhLxIF6y0gTDmzZ5xuSiICVkGnGeasLWrDTxAItwUCZvl4mX0XxcHYBxd4l4X0Y6n4rrYflIvk8IxnI+78F48UBO/IMZaHpHnv/9Rd55O95wiP8Ndx962hKxcL5Guj2qKCSvKOU71g40bsiGaQUPvEURRbCi6KQUCJUFeNkIM38PtsPFKDxbgOqwdbUe0ViQqIXZOjA1u/fCwaYzZ86wwcFB9sEHH7Dz588zu93OPvzwQ3bp0iU2PDzMLl++zK5cucL+8pe/MJfLxT7++GP2ySefsGvXrrFPP/2U/e1vfxMnQsjkGTQUsLi4AtZqk27bjxSwmJgYVnDELs240s1qdHGszDgs3eZclhqW6vMY0XvNLIs/rtjn/xjrZpVrm9mgfEtka2W5Mbms9Zx8OxKuE6wyLoYvVwU74ZLnjZudtT4mPFcMy91WxlK1laz7inxXBIZfL2Mx2r2sR749mVSXSN1OG6xdZr4LYICRX5p7bXBfk+8UuTHQZZ2ySt8p5fc+CZlEH5lQX25A/A/LkTlPmqVZpEf+8nzoFwklRr7bu68MVXdXoGjlyBGYqMUbUZ5tQOEuAy8nyuanQL8CaDnq2WXmerthS0/xr8t08N1zJCI2TF1kELtDLiEH1m2OhwbalXrxmrGhB6m1W8ZUTRD9ubn8fbmmpE3puIPU8eZ+PPGtB/DFL/0rvltrQNd5O4Z+34ve1+qR+3A2drwmrU6hOL4q3QS5Vdn09lat1LbNM2lqYZHvmjrS7lm80FbvOjQ8JteH02JCE0/CpAU+UTdPj+pfVEMvBqsV5v1WIGEePi/e6RGFz9zNL9o6cNqbpLFIzeYBddAA03lpjvW4DanfGPMhIX/ywaWCxqd5/PrWbY6fZsESLOCXiU/uHr1eVJEdw1NQiht7kF49g1e/n4Svrt4O013r8Ys//hEnj9ThqeIiFAnT9moc+nU1lry5CRkFeSgs8NkSTneLS3Hp0iW8/2oR31ZOBicsB1tgCffBnzej5SUzX6c2mHaZpaOj5KbnvmoXL2eFakJ0nu8ZCj+0uz8T4sCQAQND8lVOszwTOby8aTwpPMiKLtsSaMdS8gwiN9p/shRJKSlYK7TflOs21XCes4mFMF2SEM03rrEF6dXf4T/z1mDzfw9h8bZf43/2/zu0Solyeyz0z76InNtPX4cS2+SLTlyIZPn6xLKhu8EE21X5ppJ7tcj5npYHOd/t2aEVt/zk5hd1F99N5YavhNgHmaOBWDC1D4coBeoR6/tbnaOF7tt8l/lQB2y9XbiwXKeicCAcTd8JW95uudohESnfEr6ZLXz3Xl1x0Pandv43E4nzpdtjNxf3KLY1nVhjCNLL+E3lejz32w+BB/4Dz5UuRvjli0VmWQV08i0SgfMD6O6Vr4ekga7qCPou9eHI5qTImqWQac9zBLurt1+a4eHmu9MNfL8kKhm6zTwKz/JdWfkuiRPDQmF2hQ5Jct2qJBrab+YDnUbs3G3DkmUKv+bZc6HlpVWbvPsfiu1wGZrnP+W3652Yls8fy6P0sGnUPVK3M1QFlXD8hT86YaH/RiBCzov8jSfMmpLfSMRB6v7fH6P0gLRKHi16FBH1vJqvR77YqJZEwtrWyHe2CFEwR4/Sxkxc2FWG2lMjpTyboRWzlgmlvyho1+9GzlATWrp8SoFnWtH0WiYaanKCGsVHL9MhHyYYNTpolRrcf3Ee/53bYA+ze+7orEJhpw4VawKefX4KMlfwy7ZWdIRpFD/QkIYv3LcQeYcU2ns6B2A9zi+XJyBOmjMmw44BoVJ57J0BxiHCIP0Av3ypTt6yfAff/HqkZeVoLEzJlK9PoGvuiA+yuKfD0ZhrTlgPliCvfIwVIdPizZGJErumAea2VbDtTMPS9AxkP1qC175UPtKf/F496n7TgLhOuR2pMNW5UWRu8B7p9yM0oN8ci9J0rfLeZVQ8FqZb0XM2oEzpNKFKeO4H4xGfVQvLoZ1Y53vgU7y/ELWdwg0TKtcJy1ICg08drcc998aJQXf6TetIyfVPLcgTnn/tVjQJt39VhWx+W2rzGiknBqxm6JctHGXPeYJE1I60/xX26D33sHv4FPPoq+zMWNqRvl3D4mJqWLd8089wP2uvK2NZX4sT24rFPJDKcksb2Qm5WdyIblYj3O+dclnrQD9r3ZnF7hduxyWzgrpuJrSKsxtyff6PT9V8/sm9rEB+jfvXVvDHBjdwG36vgzWWZrFksQ0c/z9dLiv7yQlm/0T+B1/nhPZ1wv8pvy+XTXiuXJb6gGc57mepG2tYqyXojfk8V4jpsVbmfVTQ/4ZYr9zwH9vZ3ojej8K6FdoN2k/4vYe4r2WxCkM/U9008LoZZv3GGlasu9/v/fi2pCTBBluyWMzOE5P8ufewvdvaR77nE0Fsz5rFmt+Tb0+yiIL0w19tFUNUDNIfdrL/m4AG+S7rXpbFf+Sp21pZj13+mC72s47ns3jwprKy1/2aBksudrAKMRgeYqn8B1FwgP8QLEJQC/PiWM3b8v/xj71/P/8CCPN1qfx/K1mHfZC1b5BCIWaD/4c2aCjmgRzHsp4/wQaFBr+fuNigqZKlio/nYRXYCDhckJ5rZwXCMi4pZu1yQ2bXxR7Wui1VXMb057tDfCk9gTZaA2gXGzaWSe9DMUhdrGefvA4NPcwuL/vwQAereYRvTHRlrMO3cbbHxXZWJr9+o3Evy32shp2wSUvqOtfBKnXCfTEs1zChX/epcZH/qFbFsfs3NrOei9Ks4bf594+/n1S+oZ2+G4cpwH9zZXH8uyyvt0nxXjMra1H4vavgMleyuI3tU7ahjChI32t+ZCRIn3lTfc8mW6sUNry0Fbz6XKz7mYf4jzaV1VgCv+IjPR1iPL0wrnSzvY+ls/SNjazH9995wEphE8cqjkl3DB4pY+n/lssqTCNh4DpZyR7i/xensNUdPCCFceq+gL4RYYLU09tEmMpMvs/It7paaXkqzYGvJIg0SLkwry/2fuH35f5M4YvJ11WlsAxKGwfv8infP/gzuaQfsBEajctUIW/o1Ez8M/Rbl2Mg9vbhn++GwO/aMOsoFZ77IbbXKs8Kq581rgpcrnFMqxr5M00vwu8g68DEBt0IFzvxFN+4T2hQCzmRGuHnOjGuQ5COhGHZ6yG2F7y0KoRbcPeukcemj/bBeoM0XFc1Hh5ySavypDzLF99SpistR7gSqVz6iVsVHEbd1dJrCdUNwSYgSL3z+RczxKrt2SdspGLYQ3WBHed8uuMphLC3ysS3qiEivATNv0Nqp/HFqBCWQpWO0i4e/wHvlN9vpKXsK8rLNqYpaAM2HQyy1o3F/t1MJwrf22kNKjCpIxRmcict+JVFdLDps7P/Xr7GXVHZ5epsB1rahCsazJ0bohp4zlzpSJs4iow4J0jCPP/+GyEtj0NsqPYPvV1olZ+/9mGfHkueaXEJzMKdY+lmNkeL8rY+9LWVBnVni50vdXebLLbOFumov2YuQq3az2ukY5jWelPINr6JX5rI45xRiI6OVj2NqwlLbwuqXnYA386BPqgd4gUMyU3NTg9dkK6M5i7lZRvTNK6RkK63WGQ+uw62pyfhVCP36pA5rh5LIZxpQc1QARoiGthk4kQ2Qr69HRuSS/Br4QEP70P3f2XiHyIdIV9o57ahH/qf5ohdvcRulqlV/IoeDX84gEyl3hTnDcj7aqEYCvrGPhxY42lEJox8HY9CHsTlHZdQuliercTzOukN6PtppnJjY59lqfttXZjxDWfxH4HPh+1dvnIcvcQDU57ty33eio5jRnR1WjBw6QL6ugZGjkpuP4pLZYGP4utpdhqqwq0XjxCvb9k9G2k/4lfCvGfH4TzEF4hrNuB1Rlm3kazPG4xldzxfH46A75DMacLW+7LFo8KK999gnnvuOfkaGa9t27bJ1yZeZM2fvvAgHl4pX3+9F0Nj2SrZbbCedcIl38Q1zzU+zzvzOvEuy2nYXQqlB+80hi3mNRuM5RlY+NXlKPu5HQvWlKO68ShOv/8+jj8rNFEeG7fTGTAITBie/3O68Ff56q3Liu7XhE2XFjpxUI8Af+qWmtYgEUsWTIfNArmhRdT86fJl9lHHTrZAqCONiWFFv/ww4jpS17EKFveUz4EcT/0nn2os8rxA3rq+GO+BIslIPV7Ix3p46kjD1el56kCDXmcUIetIPXVySgc3fA7YRFxHKr3foPca4vU99Z+KdbeykeZhgXXHo6zbSNangut2sMnz2cYpr4ueOnldBQ4dF9Kte7CJjC7ink1RX9uA2jxpy/1q/cvojahU6oDxQBeKM3xOXpWgQ46829h/LqChr8d5Gy8jcppS6JZNYP1JIE/vCy6o652HsAu4uD6ywUHOm9Ai1MnxHd+C9cGnV3AM+fZbsqJp9Q6YlFbBOIfnS1yeI+/m9+NCiFVrOyuuWWg265A8iavWI2pFhVgaf1/VdBoVK8a2sI5es1S/nZ0UPB6B2wxjvfCJJqF8+9oIe74sQP6rSss2xunVfKmKi9xUIg5S4LP4l4r92Pbg3wG/exbbarpCDI4wwna4AlXznkK+X3/SBVj3TLn4gzccMSO4Y5gbZmMjj2ANMqtyoJ3UH3sscnY8LS6LdVetYs8LW1sTetanRDY4yO1RYQ6K2NDvd3THDefxITi9oRmFWeJ6MqLf27f5r3A59ZGPB/mVdajcLq5ZGI4pdLm7akb7fp6wmkxU5gWemVF4LfnqhLoeB5vc6HvbIF8N3OK7YamrQq2Df78aG8Y2gvste7CJjGYMQcrd9QC+f+AwXnhkHt56cQ3+ef0+mM8rFU2dGDhYguxOLQ5tDT6VatTiUjTwLXNSWyEKnzDA6pCf46oN5hdyUbjnM8jZ0449gf133Re8YwvaL4T/1TsvSMOOwTmMC+FKzwlF+PkvSqHVGFG4ugRNb9kgjqEgdNs8vBWbTq5Fw/f8Y9T9kWeEnYCxDjWpKBCDzIGqH1bBJFcmuz+ywvBEIZpv10mBPHQBDr5cdo3voLmJWLleGuKl+YABNh6wzlM8EOfnQBcQpH6v7zdSVBSSyhpwqDAJxu8VYuthKxzy/e4hM2oLClF/dw7qjHuCuwy6bbAJ/Zo5pXVr65fL5KOtzxtCP3rF96KB5kgNajrl4vk1h/j9Wvcjh/L3i5DxirSONPBUI+eO/ZhtyVwo1vvcr9vIKl7cw/bW7WV7nyljWbpUb5fNsOzdrLW6eKQrpdxFtOO9wEd66g+VJv86sKAuoj5T2PaCQndVvizpPt1Vi+sCulR626YGTr71mnJXxFXJ3h5XyY+UsUaz8Nou1vOTXLFbq3JX1WHW08LXn7g++OPyG1mPb7vDUK+vUG9pt7Symo2pUhdaPkldRDvYYNCHEnrdCusr9PoMXQ973fm2/x3uYY358mcRl8yyFLsgE6JOZM2fFCZPs6ePLw9hoHcIw3wX6uNZsxB1TyySvxKLqDGcw5qQieR8Yyvue7QJKD6CPz8ZvEdEyEQb2669gqjoWCSmaKFdoYNOuEygECXX18A7UsMmfWKEpxG+1TjMaNqSjUWBHVDEqQRGlaPaCxxdwtlOpTOTBk3FxlGPr0w3qoOUkBuLFd1vCJfUPlSJu7ce2Q/Xw5lejePvv493fi516Mj/aZ/csmA39N6xSf1P37wotQomIQF7m5CxmAdi/FJkrN4Ko9/Az25YX8pG2ktOrKw5zp/vHRzaLL4CDvxBbrlQo4f7jR3ISF+KeP68wimgqzpHotV2uFAMeWF+3ivT5Gxv460jVTv6EyGTQjyFcAyLiam8cetwr5crJ1hF3EOs8mRw2+y458OctFhs++07uMswa99Zw7oVDoKI7cYDT5sstnv2HZ3No5vVxCmMm8E/w7Lq6TUqF5VIyU3FfbZHGm/gcensk2TEwMEq1P9jPnKWBld4OK6FaYqRIJzMzorWN6WWG7a2FmA9L8kGjecwgOZn6hG/PkfhtMkO4FP5qlcikrIB85GukWaQwplIfwIUlU2v0+hQkJKbiosHgkajRfm3Qoz6fsuywnTQgkRdYkAHBBv62wD9vHDVINLJ7Kw/64LlrVo0Ya18CugAvSa0vJUI3aKAZmVD/XzjFnDyPVEUkr9RBBw3oEs8HYl8JtLvBndmudFRkJKbSvSKavT1HRnnOdBvZm64eoEl9wVEVG83TNBBlxQ+uhK/vhaJvTtQcUyLivQQoet28bjmewIBIWu1mBROvieJWqRFPsxoOmqBZfcm9KzxnIl0eqEgJeQWMvdzvuV0N8yGPUDZFqwd7XTHCUvEMwK7Z4XrvScIOP3xVTNa64HSH4Toihu9BCnf5mFbnoYKlKNi+fTcAFKQEnJLSIR2eyKMJ0dGjbAdKsamM8WoKxmtPtINywvtQLEWVkNX6HEnErQoTzCOnFL8Gt9V37IJA5vqsEWhXlYSzUu7ev7YclSOuhw3LtUN8j2T+GTyJSHkBiQM8fj0Vuz/vRtRd2kQuzwHWx7XQjNKu2/b4R0wxFagdHYrshc3QXvi+MiZSwMNGbHjif3odfGS65xY6HK3ID8lfDM06wvxWO5qxiWxe/X0REFKCAltyIBaSxJKxXEJbGjJWoTKpKPoCxqYfLz4c65eBHNeHxpC1b1OA7RrTwhR5rSg9lA0NnoHd4lFSroOjv0dME/UwDXOAViPCz0ip2+ICihICSH+zhpQsjoDS5PTUHWoHs1ynaf7VC027esBHPxSn4GSwwpDNUbMDevLJchYuxVN6MPezXmoP3XDDysWEu3aE0KISlQiJYQQlShICSFEJQpSQghRiYKUEEJUoiAlhBCVKEgJIUQlClJCCFGJgpQQQlSiICWEEJUoSAkhRCUKUkIIUYmClBBCVKIgJYQQlShICSFEJQpSQghRiYKUEEJUoiAlhBCVKEgJIUQlClJCCFGJgpQQQlSiICWEEJUoSAkhRCUKUkIIUYmClBBCVKIgJYQQlShICSFEJQpSQghRiYKUEEJUoiAlhBCVKEgJIUQlClJCCFGJgpQQQlSiICWEEJUoSAkhRCUKUkIIUYmClBBCVKIgJYQQlShICSFEFeD/Ae8frTfAa7oDAAAAAElFTkSuQmCC)"
      ],
      "metadata": {
        "id": "psEBlc8HY1VE"
      }
    },
    {
      "cell_type": "markdown",
      "source": [
        "En la fórmula podemos ver que la correlación entre dos variables se obtiene dividiendo la covarianza de estas entre el producto de sus desviacioens estándar.\n",
        "A continuación, usaremos como base la matriz que de varianza y covarianza que se construyó para poder armar una matriz de correlaciones."
      ],
      "metadata": {
        "id": "9JNv4uqm2Mt9"
      }
    },
    {
      "cell_type": "code",
      "source": [
        "#Creamos la matriz de correlación a partir de la matriz de varianza y covarianza obtenida\n",
        "\n",
        "my_corr_matrix = np.zeros((len(my_variance_covariance_matrix),len(my_variance_covariance_matrix[0]) ))\n",
        "my_corr_matrix\n",
        "\n"
      ],
      "metadata": {
        "colab": {
          "base_uri": "https://localhost:8080/"
        },
        "id": "udgz_5vrcFKo",
        "outputId": "0165f777-3c09-476d-ed53-ed6cbc700afa"
      },
      "execution_count": 13,
      "outputs": [
        {
          "output_type": "execute_result",
          "data": {
            "text/plain": [
              "array([[0., 0., 0., 0., 0.],\n",
              "       [0., 0., 0., 0., 0.],\n",
              "       [0., 0., 0., 0., 0.],\n",
              "       [0., 0., 0., 0., 0.],\n",
              "       [0., 0., 0., 0., 0.]])"
            ]
          },
          "metadata": {},
          "execution_count": 13
        }
      ]
    },
    {
      "cell_type": "code",
      "source": [
        "# Ahora creamos una función que, para cada valor de la matriz de varianzas, va a calcular\n",
        "# la correlación entre las variables de los indices i,j de la matriz\n",
        "\n",
        "for i in range (0, len(my_corr_matrix)):\n",
        "  for j in range (0, len(my_corr_matrix)):\n",
        "    #definimos la varianza actual a procesar\n",
        "    variance =  my_variance_covariance_matrix[i][j]\n",
        "    #obtenemos las desviaciones estandar para las variables i, j \n",
        "    std_x = my_variance_covariance_matrix[i][i] ** (1/2)\n",
        "    std_y = my_variance_covariance_matrix[j][j] ** (1/2)\n",
        "    #ahora aplicamos la fórmula directamente\n",
        "    my_corr_matrix[i][j] = variance / (std_x * std_y)\n"
      ],
      "metadata": {
        "id": "O4NHkYrBc-qN"
      },
      "execution_count": 14,
      "outputs": []
    },
    {
      "cell_type": "code",
      "source": [
        "# Una vez armada la matriz, la convertimos en dataframe para su mejor visualización\n",
        "my_corr_matrix_df = pd.DataFrame(my_corr_matrix)\n",
        "my_corr_matrix_df.transpose()"
      ],
      "metadata": {
        "colab": {
          "base_uri": "https://localhost:8080/",
          "height": 0
        },
        "id": "bBE4RM25fFGJ",
        "outputId": "660b7953-3529-410f-919c-b56ab13e3194"
      },
      "execution_count": 15,
      "outputs": [
        {
          "output_type": "execute_result",
          "data": {
            "text/plain": [
              "          0         1         2         3         4\n",
              "0  1.000000  0.211005 -0.076056 -0.099160 -0.005024\n",
              "1  0.211005  1.000000  0.059874  0.007469 -0.054473\n",
              "2 -0.076056  0.059874  1.000000 -0.221721  0.116547\n",
              "3 -0.099160  0.007469 -0.221721  1.000000 -0.506208\n",
              "4 -0.005024 -0.054473  0.116547 -0.506208  1.000000"
            ],
            "text/html": [
              "\n",
              "  <div id=\"df-278970f1-7c5e-4a48-bbf6-88f1eab286e4\">\n",
              "    <div class=\"colab-df-container\">\n",
              "      <div>\n",
              "<style scoped>\n",
              "    .dataframe tbody tr th:only-of-type {\n",
              "        vertical-align: middle;\n",
              "    }\n",
              "\n",
              "    .dataframe tbody tr th {\n",
              "        vertical-align: top;\n",
              "    }\n",
              "\n",
              "    .dataframe thead th {\n",
              "        text-align: right;\n",
              "    }\n",
              "</style>\n",
              "<table border=\"1\" class=\"dataframe\">\n",
              "  <thead>\n",
              "    <tr style=\"text-align: right;\">\n",
              "      <th></th>\n",
              "      <th>0</th>\n",
              "      <th>1</th>\n",
              "      <th>2</th>\n",
              "      <th>3</th>\n",
              "      <th>4</th>\n",
              "    </tr>\n",
              "  </thead>\n",
              "  <tbody>\n",
              "    <tr>\n",
              "      <th>0</th>\n",
              "      <td>1.000000</td>\n",
              "      <td>0.211005</td>\n",
              "      <td>-0.076056</td>\n",
              "      <td>-0.099160</td>\n",
              "      <td>-0.005024</td>\n",
              "    </tr>\n",
              "    <tr>\n",
              "      <th>1</th>\n",
              "      <td>0.211005</td>\n",
              "      <td>1.000000</td>\n",
              "      <td>0.059874</td>\n",
              "      <td>0.007469</td>\n",
              "      <td>-0.054473</td>\n",
              "    </tr>\n",
              "    <tr>\n",
              "      <th>2</th>\n",
              "      <td>-0.076056</td>\n",
              "      <td>0.059874</td>\n",
              "      <td>1.000000</td>\n",
              "      <td>-0.221721</td>\n",
              "      <td>0.116547</td>\n",
              "    </tr>\n",
              "    <tr>\n",
              "      <th>3</th>\n",
              "      <td>-0.099160</td>\n",
              "      <td>0.007469</td>\n",
              "      <td>-0.221721</td>\n",
              "      <td>1.000000</td>\n",
              "      <td>-0.506208</td>\n",
              "    </tr>\n",
              "    <tr>\n",
              "      <th>4</th>\n",
              "      <td>-0.005024</td>\n",
              "      <td>-0.054473</td>\n",
              "      <td>0.116547</td>\n",
              "      <td>-0.506208</td>\n",
              "      <td>1.000000</td>\n",
              "    </tr>\n",
              "  </tbody>\n",
              "</table>\n",
              "</div>\n",
              "      <button class=\"colab-df-convert\" onclick=\"convertToInteractive('df-278970f1-7c5e-4a48-bbf6-88f1eab286e4')\"\n",
              "              title=\"Convert this dataframe to an interactive table.\"\n",
              "              style=\"display:none;\">\n",
              "        \n",
              "  <svg xmlns=\"http://www.w3.org/2000/svg\" height=\"24px\"viewBox=\"0 0 24 24\"\n",
              "       width=\"24px\">\n",
              "    <path d=\"M0 0h24v24H0V0z\" fill=\"none\"/>\n",
              "    <path d=\"M18.56 5.44l.94 2.06.94-2.06 2.06-.94-2.06-.94-.94-2.06-.94 2.06-2.06.94zm-11 1L8.5 8.5l.94-2.06 2.06-.94-2.06-.94L8.5 2.5l-.94 2.06-2.06.94zm10 10l.94 2.06.94-2.06 2.06-.94-2.06-.94-.94-2.06-.94 2.06-2.06.94z\"/><path d=\"M17.41 7.96l-1.37-1.37c-.4-.4-.92-.59-1.43-.59-.52 0-1.04.2-1.43.59L10.3 9.45l-7.72 7.72c-.78.78-.78 2.05 0 2.83L4 21.41c.39.39.9.59 1.41.59.51 0 1.02-.2 1.41-.59l7.78-7.78 2.81-2.81c.8-.78.8-2.07 0-2.86zM5.41 20L4 18.59l7.72-7.72 1.47 1.35L5.41 20z\"/>\n",
              "  </svg>\n",
              "      </button>\n",
              "      \n",
              "  <style>\n",
              "    .colab-df-container {\n",
              "      display:flex;\n",
              "      flex-wrap:wrap;\n",
              "      gap: 12px;\n",
              "    }\n",
              "\n",
              "    .colab-df-convert {\n",
              "      background-color: #E8F0FE;\n",
              "      border: none;\n",
              "      border-radius: 50%;\n",
              "      cursor: pointer;\n",
              "      display: none;\n",
              "      fill: #1967D2;\n",
              "      height: 32px;\n",
              "      padding: 0 0 0 0;\n",
              "      width: 32px;\n",
              "    }\n",
              "\n",
              "    .colab-df-convert:hover {\n",
              "      background-color: #E2EBFA;\n",
              "      box-shadow: 0px 1px 2px rgba(60, 64, 67, 0.3), 0px 1px 3px 1px rgba(60, 64, 67, 0.15);\n",
              "      fill: #174EA6;\n",
              "    }\n",
              "\n",
              "    [theme=dark] .colab-df-convert {\n",
              "      background-color: #3B4455;\n",
              "      fill: #D2E3FC;\n",
              "    }\n",
              "\n",
              "    [theme=dark] .colab-df-convert:hover {\n",
              "      background-color: #434B5C;\n",
              "      box-shadow: 0px 1px 3px 1px rgba(0, 0, 0, 0.15);\n",
              "      filter: drop-shadow(0px 1px 2px rgba(0, 0, 0, 0.3));\n",
              "      fill: #FFFFFF;\n",
              "    }\n",
              "  </style>\n",
              "\n",
              "      <script>\n",
              "        const buttonEl =\n",
              "          document.querySelector('#df-278970f1-7c5e-4a48-bbf6-88f1eab286e4 button.colab-df-convert');\n",
              "        buttonEl.style.display =\n",
              "          google.colab.kernel.accessAllowed ? 'block' : 'none';\n",
              "\n",
              "        async function convertToInteractive(key) {\n",
              "          const element = document.querySelector('#df-278970f1-7c5e-4a48-bbf6-88f1eab286e4');\n",
              "          const dataTable =\n",
              "            await google.colab.kernel.invokeFunction('convertToInteractive',\n",
              "                                                     [key], {});\n",
              "          if (!dataTable) return;\n",
              "\n",
              "          const docLinkHtml = 'Like what you see? Visit the ' +\n",
              "            '<a target=\"_blank\" href=https://colab.research.google.com/notebooks/data_table.ipynb>data table notebook</a>'\n",
              "            + ' to learn more about interactive tables.';\n",
              "          element.innerHTML = '';\n",
              "          dataTable['output_type'] = 'display_data';\n",
              "          await google.colab.output.renderOutput(dataTable, element);\n",
              "          const docLink = document.createElement('div');\n",
              "          docLink.innerHTML = docLinkHtml;\n",
              "          element.appendChild(docLink);\n",
              "        }\n",
              "      </script>\n",
              "    </div>\n",
              "  </div>\n",
              "  "
            ]
          },
          "metadata": {},
          "execution_count": 15
        }
      ]
    },
    {
      "cell_type": "code",
      "source": [
        "#Ahora corroboramos el resultado utilizando la función .corr de Pandas\n",
        "corr = X.corr()\n",
        "corr"
      ],
      "metadata": {
        "colab": {
          "base_uri": "https://localhost:8080/",
          "height": 0
        },
        "id": "yHAEdz2D8tbH",
        "outputId": "71785672-4a11-43c3-d1f1-b2fb31150080"
      },
      "execution_count": 16,
      "outputs": [
        {
          "output_type": "execute_result",
          "data": {
            "text/plain": [
              "                           EPSP       OPM  LongFinancialLeverage    small?  \\\n",
              "EPSP                   1.000000  0.211005              -0.076056 -0.099160   \n",
              "OPM                    0.211005  1.000000               0.059874  0.007469   \n",
              "LongFinancialLeverage -0.076056  0.059874               1.000000 -0.221721   \n",
              "small?                -0.099160  0.007469              -0.221721  1.000000   \n",
              "medium?               -0.005024 -0.054473               0.116547 -0.506208   \n",
              "\n",
              "                        medium?  \n",
              "EPSP                  -0.005024  \n",
              "OPM                   -0.054473  \n",
              "LongFinancialLeverage  0.116547  \n",
              "small?                -0.506208  \n",
              "medium?                1.000000  "
            ],
            "text/html": [
              "\n",
              "  <div id=\"df-d4c49e3e-669b-4fa3-8d30-96a286e34786\">\n",
              "    <div class=\"colab-df-container\">\n",
              "      <div>\n",
              "<style scoped>\n",
              "    .dataframe tbody tr th:only-of-type {\n",
              "        vertical-align: middle;\n",
              "    }\n",
              "\n",
              "    .dataframe tbody tr th {\n",
              "        vertical-align: top;\n",
              "    }\n",
              "\n",
              "    .dataframe thead th {\n",
              "        text-align: right;\n",
              "    }\n",
              "</style>\n",
              "<table border=\"1\" class=\"dataframe\">\n",
              "  <thead>\n",
              "    <tr style=\"text-align: right;\">\n",
              "      <th></th>\n",
              "      <th>EPSP</th>\n",
              "      <th>OPM</th>\n",
              "      <th>LongFinancialLeverage</th>\n",
              "      <th>small?</th>\n",
              "      <th>medium?</th>\n",
              "    </tr>\n",
              "  </thead>\n",
              "  <tbody>\n",
              "    <tr>\n",
              "      <th>EPSP</th>\n",
              "      <td>1.000000</td>\n",
              "      <td>0.211005</td>\n",
              "      <td>-0.076056</td>\n",
              "      <td>-0.099160</td>\n",
              "      <td>-0.005024</td>\n",
              "    </tr>\n",
              "    <tr>\n",
              "      <th>OPM</th>\n",
              "      <td>0.211005</td>\n",
              "      <td>1.000000</td>\n",
              "      <td>0.059874</td>\n",
              "      <td>0.007469</td>\n",
              "      <td>-0.054473</td>\n",
              "    </tr>\n",
              "    <tr>\n",
              "      <th>LongFinancialLeverage</th>\n",
              "      <td>-0.076056</td>\n",
              "      <td>0.059874</td>\n",
              "      <td>1.000000</td>\n",
              "      <td>-0.221721</td>\n",
              "      <td>0.116547</td>\n",
              "    </tr>\n",
              "    <tr>\n",
              "      <th>small?</th>\n",
              "      <td>-0.099160</td>\n",
              "      <td>0.007469</td>\n",
              "      <td>-0.221721</td>\n",
              "      <td>1.000000</td>\n",
              "      <td>-0.506208</td>\n",
              "    </tr>\n",
              "    <tr>\n",
              "      <th>medium?</th>\n",
              "      <td>-0.005024</td>\n",
              "      <td>-0.054473</td>\n",
              "      <td>0.116547</td>\n",
              "      <td>-0.506208</td>\n",
              "      <td>1.000000</td>\n",
              "    </tr>\n",
              "  </tbody>\n",
              "</table>\n",
              "</div>\n",
              "      <button class=\"colab-df-convert\" onclick=\"convertToInteractive('df-d4c49e3e-669b-4fa3-8d30-96a286e34786')\"\n",
              "              title=\"Convert this dataframe to an interactive table.\"\n",
              "              style=\"display:none;\">\n",
              "        \n",
              "  <svg xmlns=\"http://www.w3.org/2000/svg\" height=\"24px\"viewBox=\"0 0 24 24\"\n",
              "       width=\"24px\">\n",
              "    <path d=\"M0 0h24v24H0V0z\" fill=\"none\"/>\n",
              "    <path d=\"M18.56 5.44l.94 2.06.94-2.06 2.06-.94-2.06-.94-.94-2.06-.94 2.06-2.06.94zm-11 1L8.5 8.5l.94-2.06 2.06-.94-2.06-.94L8.5 2.5l-.94 2.06-2.06.94zm10 10l.94 2.06.94-2.06 2.06-.94-2.06-.94-.94-2.06-.94 2.06-2.06.94z\"/><path d=\"M17.41 7.96l-1.37-1.37c-.4-.4-.92-.59-1.43-.59-.52 0-1.04.2-1.43.59L10.3 9.45l-7.72 7.72c-.78.78-.78 2.05 0 2.83L4 21.41c.39.39.9.59 1.41.59.51 0 1.02-.2 1.41-.59l7.78-7.78 2.81-2.81c.8-.78.8-2.07 0-2.86zM5.41 20L4 18.59l7.72-7.72 1.47 1.35L5.41 20z\"/>\n",
              "  </svg>\n",
              "      </button>\n",
              "      \n",
              "  <style>\n",
              "    .colab-df-container {\n",
              "      display:flex;\n",
              "      flex-wrap:wrap;\n",
              "      gap: 12px;\n",
              "    }\n",
              "\n",
              "    .colab-df-convert {\n",
              "      background-color: #E8F0FE;\n",
              "      border: none;\n",
              "      border-radius: 50%;\n",
              "      cursor: pointer;\n",
              "      display: none;\n",
              "      fill: #1967D2;\n",
              "      height: 32px;\n",
              "      padding: 0 0 0 0;\n",
              "      width: 32px;\n",
              "    }\n",
              "\n",
              "    .colab-df-convert:hover {\n",
              "      background-color: #E2EBFA;\n",
              "      box-shadow: 0px 1px 2px rgba(60, 64, 67, 0.3), 0px 1px 3px 1px rgba(60, 64, 67, 0.15);\n",
              "      fill: #174EA6;\n",
              "    }\n",
              "\n",
              "    [theme=dark] .colab-df-convert {\n",
              "      background-color: #3B4455;\n",
              "      fill: #D2E3FC;\n",
              "    }\n",
              "\n",
              "    [theme=dark] .colab-df-convert:hover {\n",
              "      background-color: #434B5C;\n",
              "      box-shadow: 0px 1px 3px 1px rgba(0, 0, 0, 0.15);\n",
              "      filter: drop-shadow(0px 1px 2px rgba(0, 0, 0, 0.3));\n",
              "      fill: #FFFFFF;\n",
              "    }\n",
              "  </style>\n",
              "\n",
              "      <script>\n",
              "        const buttonEl =\n",
              "          document.querySelector('#df-d4c49e3e-669b-4fa3-8d30-96a286e34786 button.colab-df-convert');\n",
              "        buttonEl.style.display =\n",
              "          google.colab.kernel.accessAllowed ? 'block' : 'none';\n",
              "\n",
              "        async function convertToInteractive(key) {\n",
              "          const element = document.querySelector('#df-d4c49e3e-669b-4fa3-8d30-96a286e34786');\n",
              "          const dataTable =\n",
              "            await google.colab.kernel.invokeFunction('convertToInteractive',\n",
              "                                                     [key], {});\n",
              "          if (!dataTable) return;\n",
              "\n",
              "          const docLinkHtml = 'Like what you see? Visit the ' +\n",
              "            '<a target=\"_blank\" href=https://colab.research.google.com/notebooks/data_table.ipynb>data table notebook</a>'\n",
              "            + ' to learn more about interactive tables.';\n",
              "          element.innerHTML = '';\n",
              "          dataTable['output_type'] = 'display_data';\n",
              "          await google.colab.output.renderOutput(dataTable, element);\n",
              "          const docLink = document.createElement('div');\n",
              "          docLink.innerHTML = docLinkHtml;\n",
              "          element.appendChild(docLink);\n",
              "        }\n",
              "      </script>\n",
              "    </div>\n",
              "  </div>\n",
              "  "
            ]
          },
          "metadata": {},
          "execution_count": 16
        }
      ]
    },
    {
      "cell_type": "markdown",
      "source": [
        "## Análisis de outliers y leverage points"
      ],
      "metadata": {
        "id": "Fazggw5FU3Go"
      }
    },
    {
      "cell_type": "code",
      "source": [
        "X_tmp = df_analysis[[\"EPSP\", \"OPM\", \"LongFinancialLeverage\", \"small?\", \"medium?\"]]\n",
        "y_tmp = df_analysis[\"ReturnOnNextQuarter\"]"
      ],
      "metadata": {
        "id": "CzGHu3w0VfUF"
      },
      "execution_count": 17,
      "outputs": []
    },
    {
      "cell_type": "code",
      "source": [
        "df_tmp = df_analysis\n",
        "df_tmp['l'] = np.diagonal(np.dot(np.dot(X, np.linalg.inv(X.T @ X)), X.T))\n",
        "import matplotlib.pyplot as plt\n",
        "plt.scatter(df_tmp['l'], y_tmp)\n"
      ],
      "metadata": {
        "colab": {
          "base_uri": "https://localhost:8080/",
          "height": 282
        },
        "id": "tfcnbBURVpAV",
        "outputId": "4f35d99e-c3a4-45c3-87aa-b0eabf16580a"
      },
      "execution_count": 21,
      "outputs": [
        {
          "output_type": "execute_result",
          "data": {
            "text/plain": [
              "<matplotlib.collections.PathCollection at 0x7f94b9376210>"
            ]
          },
          "metadata": {},
          "execution_count": 21
        },
        {
          "output_type": "display_data",
          "data": {
            "text/plain": [
              "<Figure size 432x288 with 1 Axes>"
            ],
            "image/png": "[encoded data removed]"
          },
          "metadata": {
            "needs_background": "light"
          }
        }
      ]
    },
    {
      "cell_type": "markdown",
      "source": [
        "## Análisis de multicolinearidad"
      ],
      "metadata": {
        "id": "CXfFeY4b4-3z"
      }
    },
    {
      "cell_type": "markdown",
      "source": [
        "La multicolinearidad ocurre cuando hay variables independientes que tienen correlaciones fuertes entre sí. Esto puede causar problemas en la predicción, ya que las variables que se presumen independientes terminan siendo dependientes entre sí. \n",
        "\n",
        "Para descartar este problema, se realiza una prueba de multicolinearidad."
      ],
      "metadata": {
        "id": "44O_JAgP5Gwj"
      }
    },
    {
      "cell_type": "code",
      "source": [
        "from statsmodels.stats.outliers_influence import variance_inflation_factor\n",
        "vif_data = pd.DataFrame()\n",
        "\n",
        "df_vif  = df_analysis[[\"ReturnOnNextQuarter\",\"EPSP\",\"OPM\", \"SalesAnnualGrowth\", \"LongFinancialLeverage\"]]\n",
        "\n",
        "vif_data[\"feature\"] = df_vif.columns\n",
        "  \n",
        "# calculating VIF for each feature\n",
        "vif_data[\"VIF\"] = [variance_inflation_factor(df_vif.values, i)\n",
        "                          for i in range(len(df_vif.columns))]\n",
        "\n",
        "print(vif_data)"
      ],
      "metadata": {
        "colab": {
          "base_uri": "https://localhost:8080/"
        },
        "id": "iyW9BCTa5B-u",
        "outputId": "07d40d44-f017-4648-cd45-9ada5d83ee4d"
      },
      "execution_count": null,
      "outputs": [
        {
          "output_type": "stream",
          "name": "stdout",
          "text": [
            "                 feature       VIF\n",
            "0    ReturnOnNextQuarter  1.138614\n",
            "1                   EPSP  1.074496\n",
            "2                    OPM  1.055528\n",
            "3      SalesAnnualGrowth  1.060669\n",
            "4  LongFinancialLeverage  1.158483\n"
          ]
        }
      ]
    },
    {
      "cell_type": "markdown",
      "source": [
        "En la prueba podemos ver que ninguna de las variables tiene un valor superior a 10, por lo tanto podemos descartar que haya problemas de multicolinearidad."
      ],
      "metadata": {
        "id": "1OfCsH9N5pxp"
      }
    },
    {
      "cell_type": "markdown",
      "source": [
        "# Creación del modelo"
      ],
      "metadata": {
        "id": "TBEgn12EHdie"
      }
    },
    {
      "cell_type": "markdown",
      "source": [
        "A continuación, utilizaremos álgebra matricial para hacer una regresión lineal múltiple."
      ],
      "metadata": {
        "id": "ozkGfjYn4qXR"
      }
    },
    {
      "cell_type": "code",
      "source": [
        "#Definimos las variables dependientes e independientes\n",
        "X = df_analysis[[\"EPSP\", \"OPM\", \"LongFinancialLeverage\", \"small?\", \"medium?\"]]\n",
        "\n",
        "y = df_analysis[\"ReturnOnNextQuarter\"]"
      ],
      "metadata": {
        "id": "t98t55C7Lr67"
      },
      "execution_count": null,
      "outputs": []
    },
    {
      "cell_type": "code",
      "source": [
        "#creamos una columna para las betas\n",
        "X[\"beta\"] = 1\n",
        "#Hacemos esto para colocar la columna al principio del dataframe\n",
        "temp_1s_col = X[\"beta\"]\n",
        "X= X.drop(\"beta\", axis=1)\n",
        "X.insert(0,\"beta\", temp_1s_col)\n",
        "X"
      ],
      "metadata": {
        "id": "YrvO-3H31cVa",
        "colab": {
          "base_uri": "https://localhost:8080/",
          "height": 528
        },
        "outputId": "c9326616-daa6-41a3-b510-468b986ec486"
      },
      "execution_count": null,
      "outputs": [
        {
          "output_type": "stream",
          "name": "stderr",
          "text": [
            "/usr/local/lib/python3.7/dist-packages/ipykernel_launcher.py:2: SettingWithCopyWarning: \n",
            "A value is trying to be set on a copy of a slice from a DataFrame.\n",
            "Try using .loc[row_indexer,col_indexer] = value instead\n",
            "\n",
            "See the caveats in the documentation: https://pandas.pydata.org/pandas-docs/stable/user_guide/indexing.html#returning-a-view-versus-a-copy\n",
            "  \n"
          ]
        },
        {
          "output_type": "execute_result",
          "data": {
            "text/plain": [
              "        beta  EPSP       OPM  LongFinancialLeverage  small?  medium?\n",
              "448        1   0.0  0.000000               0.016016       0        1\n",
              "2695       1   0.0  0.000000               0.003474       1        0\n",
              "3055       1   0.0  0.000000               0.404709       0        1\n",
              "4135       1   0.0  0.000000               0.012156       1        0\n",
              "7645       1   0.0  0.000000               0.218182       1        0\n",
              "...      ...   ...       ...                    ...     ...      ...\n",
              "318054     1   0.0  0.000000               0.319127       0        1\n",
              "318684     1   0.0  0.000000               0.640112       0        1\n",
              "319044     1   0.0  0.000000               0.018014       0        1\n",
              "319584     1   0.0 -0.346404               0.258356       1        0\n",
              "322734     1   0.0  0.000000               0.007561       0        0\n",
              "\n",
              "[769 rows x 6 columns]"
            ],
            "text/html": [
              "\n",
              "  <div id=\"df-a1905900-0859-466c-9c0b-3620636ca3ff\">\n",
              "    <div class=\"colab-df-container\">\n",
              "      <div>\n",
              "<style scoped>\n",
              "    .dataframe tbody tr th:only-of-type {\n",
              "        vertical-align: middle;\n",
              "    }\n",
              "\n",
              "    .dataframe tbody tr th {\n",
              "        vertical-align: top;\n",
              "    }\n",
              "\n",
              "    .dataframe thead th {\n",
              "        text-align: right;\n",
              "    }\n",
              "</style>\n",
              "<table border=\"1\" class=\"dataframe\">\n",
              "  <thead>\n",
              "    <tr style=\"text-align: right;\">\n",
              "      <th></th>\n",
              "      <th>beta</th>\n",
              "      <th>EPSP</th>\n",
              "      <th>OPM</th>\n",
              "      <th>LongFinancialLeverage</th>\n",
              "      <th>small?</th>\n",
              "      <th>medium?</th>\n",
              "    </tr>\n",
              "  </thead>\n",
              "  <tbody>\n",
              "    <tr>\n",
              "      <th>448</th>\n",
              "      <td>1</td>\n",
              "      <td>0.0</td>\n",
              "      <td>0.000000</td>\n",
              "      <td>0.016016</td>\n",
              "      <td>0</td>\n",
              "      <td>1</td>\n",
              "    </tr>\n",
              "    <tr>\n",
              "      <th>2695</th>\n",
              "      <td>1</td>\n",
              "      <td>0.0</td>\n",
              "      <td>0.000000</td>\n",
              "      <td>0.003474</td>\n",
              "      <td>1</td>\n",
              "      <td>0</td>\n",
              "    </tr>\n",
              "    <tr>\n",
              "      <th>3055</th>\n",
              "      <td>1</td>\n",
              "      <td>0.0</td>\n",
              "      <td>0.000000</td>\n",
              "      <td>0.404709</td>\n",
              "      <td>0</td>\n",
              "      <td>1</td>\n",
              "    </tr>\n",
              "    <tr>\n",
              "      <th>4135</th>\n",
              "      <td>1</td>\n",
              "      <td>0.0</td>\n",
              "      <td>0.000000</td>\n",
              "      <td>0.012156</td>\n",
              "      <td>1</td>\n",
              "      <td>0</td>\n",
              "    </tr>\n",
              "    <tr>\n",
              "      <th>7645</th>\n",
              "      <td>1</td>\n",
              "      <td>0.0</td>\n",
              "      <td>0.000000</td>\n",
              "      <td>0.218182</td>\n",
              "      <td>1</td>\n",
              "      <td>0</td>\n",
              "    </tr>\n",
              "    <tr>\n",
              "      <th>...</th>\n",
              "      <td>...</td>\n",
              "      <td>...</td>\n",
              "      <td>...</td>\n",
              "      <td>...</td>\n",
              "      <td>...</td>\n",
              "      <td>...</td>\n",
              "    </tr>\n",
              "    <tr>\n",
              "      <th>318054</th>\n",
              "      <td>1</td>\n",
              "      <td>0.0</td>\n",
              "      <td>0.000000</td>\n",
              "      <td>0.319127</td>\n",
              "      <td>0</td>\n",
              "      <td>1</td>\n",
              "    </tr>\n",
              "    <tr>\n",
              "      <th>318684</th>\n",
              "      <td>1</td>\n",
              "      <td>0.0</td>\n",
              "      <td>0.000000</td>\n",
              "      <td>0.640112</td>\n",
              "      <td>0</td>\n",
              "      <td>1</td>\n",
              "    </tr>\n",
              "    <tr>\n",
              "      <th>319044</th>\n",
              "      <td>1</td>\n",
              "      <td>0.0</td>\n",
              "      <td>0.000000</td>\n",
              "      <td>0.018014</td>\n",
              "      <td>0</td>\n",
              "      <td>1</td>\n",
              "    </tr>\n",
              "    <tr>\n",
              "      <th>319584</th>\n",
              "      <td>1</td>\n",
              "      <td>0.0</td>\n",
              "      <td>-0.346404</td>\n",
              "      <td>0.258356</td>\n",
              "      <td>1</td>\n",
              "      <td>0</td>\n",
              "    </tr>\n",
              "    <tr>\n",
              "      <th>322734</th>\n",
              "      <td>1</td>\n",
              "      <td>0.0</td>\n",
              "      <td>0.000000</td>\n",
              "      <td>0.007561</td>\n",
              "      <td>0</td>\n",
              "      <td>0</td>\n",
              "    </tr>\n",
              "  </tbody>\n",
              "</table>\n",
              "<p>769 rows × 6 columns</p>\n",
              "</div>\n",
              "      <button class=\"colab-df-convert\" onclick=\"convertToInteractive('df-a1905900-0859-466c-9c0b-3620636ca3ff')\"\n",
              "              title=\"Convert this dataframe to an interactive table.\"\n",
              "              style=\"display:none;\">\n",
              "        \n",
              "  <svg xmlns=\"http://www.w3.org/2000/svg\" height=\"24px\"viewBox=\"0 0 24 24\"\n",
              "       width=\"24px\">\n",
              "    <path d=\"M0 0h24v24H0V0z\" fill=\"none\"/>\n",
              "    <path d=\"M18.56 5.44l.94 2.06.94-2.06 2.06-.94-2.06-.94-.94-2.06-.94 2.06-2.06.94zm-11 1L8.5 8.5l.94-2.06 2.06-.94-2.06-.94L8.5 2.5l-.94 2.06-2.06.94zm10 10l.94 2.06.94-2.06 2.06-.94-2.06-.94-.94-2.06-.94 2.06-2.06.94z\"/><path d=\"M17.41 7.96l-1.37-1.37c-.4-.4-.92-.59-1.43-.59-.52 0-1.04.2-1.43.59L10.3 9.45l-7.72 7.72c-.78.78-.78 2.05 0 2.83L4 21.41c.39.39.9.59 1.41.59.51 0 1.02-.2 1.41-.59l7.78-7.78 2.81-2.81c.8-.78.8-2.07 0-2.86zM5.41 20L4 18.59l7.72-7.72 1.47 1.35L5.41 20z\"/>\n",
              "  </svg>\n",
              "      </button>\n",
              "      \n",
              "  <style>\n",
              "    .colab-df-container {\n",
              "      display:flex;\n",
              "      flex-wrap:wrap;\n",
              "      gap: 12px;\n",
              "    }\n",
              "\n",
              "    .colab-df-convert {\n",
              "      background-color: #E8F0FE;\n",
              "      border: none;\n",
              "      border-radius: 50%;\n",
              "      cursor: pointer;\n",
              "      display: none;\n",
              "      fill: #1967D2;\n",
              "      height: 32px;\n",
              "      padding: 0 0 0 0;\n",
              "      width: 32px;\n",
              "    }\n",
              "\n",
              "    .colab-df-convert:hover {\n",
              "      background-color: #E2EBFA;\n",
              "      box-shadow: 0px 1px 2px rgba(60, 64, 67, 0.3), 0px 1px 3px 1px rgba(60, 64, 67, 0.15);\n",
              "      fill: #174EA6;\n",
              "    }\n",
              "\n",
              "    [theme=dark] .colab-df-convert {\n",
              "      background-color: #3B4455;\n",
              "      fill: #D2E3FC;\n",
              "    }\n",
              "\n",
              "    [theme=dark] .colab-df-convert:hover {\n",
              "      background-color: #434B5C;\n",
              "      box-shadow: 0px 1px 3px 1px rgba(0, 0, 0, 0.15);\n",
              "      filter: drop-shadow(0px 1px 2px rgba(0, 0, 0, 0.3));\n",
              "      fill: #FFFFFF;\n",
              "    }\n",
              "  </style>\n",
              "\n",
              "      <script>\n",
              "        const buttonEl =\n",
              "          document.querySelector('#df-a1905900-0859-466c-9c0b-3620636ca3ff button.colab-df-convert');\n",
              "        buttonEl.style.display =\n",
              "          google.colab.kernel.accessAllowed ? 'block' : 'none';\n",
              "\n",
              "        async function convertToInteractive(key) {\n",
              "          const element = document.querySelector('#df-a1905900-0859-466c-9c0b-3620636ca3ff');\n",
              "          const dataTable =\n",
              "            await google.colab.kernel.invokeFunction('convertToInteractive',\n",
              "                                                     [key], {});\n",
              "          if (!dataTable) return;\n",
              "\n",
              "          const docLinkHtml = 'Like what you see? Visit the ' +\n",
              "            '<a target=\"_blank\" href=https://colab.research.google.com/notebooks/data_table.ipynb>data table notebook</a>'\n",
              "            + ' to learn more about interactive tables.';\n",
              "          element.innerHTML = '';\n",
              "          dataTable['output_type'] = 'display_data';\n",
              "          await google.colab.output.renderOutput(dataTable, element);\n",
              "          const docLink = document.createElement('div');\n",
              "          docLink.innerHTML = docLinkHtml;\n",
              "          element.appendChild(docLink);\n",
              "        }\n",
              "      </script>\n",
              "    </div>\n",
              "  </div>\n",
              "  "
            ]
          },
          "metadata": {},
          "execution_count": 17
        }
      ]
    },
    {
      "cell_type": "code",
      "source": [
        "#Obtenemos la transpuesta de X\n",
        "transposed_X = X.transpose()"
      ],
      "metadata": {
        "id": "8jZ55k3ZE2yJ"
      },
      "execution_count": null,
      "outputs": []
    },
    {
      "cell_type": "code",
      "source": [
        "# Obtenemos el producto punto entre la transpuesta de X y X\n",
        "transposed_X_dot_X = transposed_X.dot(X)"
      ],
      "metadata": {
        "id": "VM7L-k-fE5-Z"
      },
      "execution_count": null,
      "outputs": []
    },
    {
      "cell_type": "code",
      "source": [
        "#Obtenemos la inversa de la matriz que calculamos previamente\n",
        "transposed_X_dot_X_inv = np.linalg.inv(transposed_X_dot_X)"
      ],
      "metadata": {
        "id": "j8CpiB0PFm2u"
      },
      "execution_count": null,
      "outputs": []
    },
    {
      "cell_type": "code",
      "source": [
        "#Obtenemos el producto punto entre la transpuesta de X y Y\n",
        "transposed_X_dot_Y = transposed_X.dot(y)"
      ],
      "metadata": {
        "id": "NYHrByIYFrvw"
      },
      "execution_count": null,
      "outputs": []
    },
    {
      "cell_type": "code",
      "source": [
        "#Finalmente, obtenemos la matriz de betas calculando el producto punot\n",
        "#entre las dos últimas matrices que calculamos.\n",
        "betas = transposed_X_dot_X_inv.dot(transposed_X_dot_Y)"
      ],
      "metadata": {
        "id": "QWFwa_CEGMbA"
      },
      "execution_count": null,
      "outputs": []
    },
    {
      "cell_type": "code",
      "source": [
        "betas"
      ],
      "metadata": {
        "colab": {
          "base_uri": "https://localhost:8080/"
        },
        "id": "U6QAtclnGQco",
        "outputId": "e904880f-d446-4eb0-ef57-023d3a0d224e"
      },
      "execution_count": null,
      "outputs": [
        {
          "output_type": "execute_result",
          "data": {
            "text/plain": [
              "array([-0.08647201,  6.05724801,  0.09681478, -0.22419559, -0.0972918 ,\n",
              "       -0.04082689])"
            ]
          },
          "metadata": {},
          "execution_count": 23
        }
      ]
    },
    {
      "cell_type": "code",
      "source": [
        "#Validamos el resultado obtenido utilizando la librería OLS de statsmodel\n",
        "import statsmodels.api as sm\n",
        "\n",
        "X = df_analysis[[\"EPSP\", \"OPM\", \"LongFinancialLeverage\", \"small?\", \"medium?\"]]\n",
        "x = sm.add_constant(X)\n",
        "y = df_analysis[\"ReturnOnNextQuarter\"]\n",
        "#fit linear regression model\n",
        "model = sm.OLS(y, x).fit()\n",
        "\n",
        "#view model summary\n",
        "print(model.summary())"
      ],
      "metadata": {
        "colab": {
          "base_uri": "https://localhost:8080/"
        },
        "id": "u7D7YfxXGXZG",
        "outputId": "4ec214c9-4e45-4d7e-f730-26c99435a3a5"
      },
      "execution_count": null,
      "outputs": [
        {
          "output_type": "stream",
          "name": "stdout",
          "text": [
            "                             OLS Regression Results                            \n",
            "===============================================================================\n",
            "Dep. Variable:     ReturnOnNextQuarter   R-squared:                       0.048\n",
            "Model:                             OLS   Adj. R-squared:                  0.042\n",
            "Method:                  Least Squares   F-statistic:                     7.734\n",
            "Date:                 Mon, 24 Oct 2022   Prob (F-statistic):           4.15e-07\n",
            "Time:                         22:43:12   Log-Likelihood:                -432.31\n",
            "No. Observations:                  769   AIC:                             876.6\n",
            "Df Residuals:                      763   BIC:                             904.5\n",
            "Df Model:                            5                                         \n",
            "Covariance Type:             nonrobust                                         \n",
            "=========================================================================================\n",
            "                            coef    std err          t      P>|t|      [0.025      0.975]\n",
            "-----------------------------------------------------------------------------------------\n",
            "const                    -0.0865      0.031     -2.817      0.005      -0.147      -0.026\n",
            "EPSP                      6.0572      1.643      3.686      0.000       2.831       9.283\n",
            "OPM                       0.0968      0.058      1.657      0.098      -0.018       0.212\n",
            "LongFinancialLeverage    -0.2242      0.069     -3.255      0.001      -0.359      -0.089\n",
            "small?                   -0.0973      0.039     -2.526      0.012      -0.173      -0.022\n",
            "medium?                  -0.0408      0.038     -1.071      0.285      -0.116       0.034\n",
            "==============================================================================\n",
            "Omnibus:                      491.802   Durbin-Watson:                   1.825\n",
            "Prob(Omnibus):                  0.000   Jarque-Bera (JB):             6224.822\n",
            "Skew:                          -2.716   Prob(JB):                         0.00\n",
            "Kurtosis:                      15.836   Cond. No.                         121.\n",
            "==============================================================================\n",
            "\n",
            "Notes:\n",
            "[1] Standard Errors assume that the covariance matrix of the errors is correctly specified.\n"
          ]
        },
        {
          "output_type": "stream",
          "name": "stderr",
          "text": [
            "/usr/local/lib/python3.7/dist-packages/statsmodels/tsa/tsatools.py:142: FutureWarning: In a future version of pandas all arguments of concat except for the argument 'objs' will be keyword-only\n",
            "  x = pd.concat(x[::order], 1)\n"
          ]
        }
      ]
    }
  ]
}