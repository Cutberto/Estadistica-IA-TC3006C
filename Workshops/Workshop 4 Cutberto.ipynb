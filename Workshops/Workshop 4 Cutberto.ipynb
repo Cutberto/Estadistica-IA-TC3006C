{
 "cells": [
  {
   "cell_type": "code",
   "execution_count": 23,
   "id": "41a738b3",
   "metadata": {},
   "outputs": [],
   "source": [
    "import numpy as np\n",
    "import pandas as pd\n",
    "import pandas_datareader as pdr\n",
    "import math \n",
    "import matplotlib\n",
    "import matplotlib.pyplot as plt\n",
    "ALFAA = pdr.get_data_yahoo('ALFAA.MX',\n",
    "start=\"01/01/2017\", interval=\"m\")\n",
    "ALFAA[\"r\"]= (np.log(ALFAA[\"Adj Close\"]) - np.log(ALFAA[\"Adj Close\"].shift(1)))\n",
    "MXX = pdr.get_data_yahoo('^MXX',\n",
    "start=\"01/01/2017\", interval=\"m\")\n",
    "MXX[\"r\"]= (np.log(MXX[\"Adj Close\"]) - np.log(MXX[\"Adj Close\"].shift(1)))\n",
    "N=45"
   ]
  },
  {
   "cell_type": "code",
   "execution_count": 24,
   "id": "73458be2",
   "metadata": {},
   "outputs": [
    {
     "data": {
      "text/plain": [
       "Date\n",
       "2017-01-01         NaN\n",
       "2017-02-01   -0.051955\n",
       "2017-03-01    0.064441\n",
       "2017-04-01   -0.056202\n",
       "2017-05-01    0.039786\n",
       "Name: r, dtype: float64"
      ]
     },
     "execution_count": 24,
     "metadata": {},
     "output_type": "execute_result"
    }
   ],
   "source": [
    "ALFAA['r'].head()"
   ]
  },
  {
   "cell_type": "code",
   "execution_count": 25,
   "id": "a7dd4147",
   "metadata": {},
   "outputs": [],
   "source": [
    "ALFAA= ALFAA.dropna()\n",
    "MXX = MXX.dropna()\n",
    "y = ALFAA[\"Adj Close\"]\n",
    "x = MXX[\"Adj Close\"]\n"
   ]
  },
  {
   "cell_type": "code",
   "execution_count": 26,
   "id": "6d3e9701",
   "metadata": {},
   "outputs": [],
   "source": [
    "from sklearn.linear_model import LinearRegression"
   ]
  },
  {
   "cell_type": "code",
   "execution_count": 27,
   "id": "46515dc0",
   "metadata": {},
   "outputs": [
    {
     "data": {
      "text/plain": [
       "LinearRegression()"
      ]
     },
     "execution_count": 27,
     "metadata": {},
     "output_type": "execute_result"
    }
   ],
   "source": [
    "model = LinearRegression(fit_intercept=True)\n",
    "model"
   ]
  },
  {
   "cell_type": "code",
   "execution_count": 28,
   "id": "d1a1431c",
   "metadata": {},
   "outputs": [
    {
     "name": "stderr",
     "output_type": "stream",
     "text": [
      "<ipython-input-28-a5557e104beb>:1: FutureWarning: Support for multi-dimensional indexing (e.g. `obj[:, None]`) is deprecated and will be removed in a future version.  Convert to a numpy array before indexing instead.\n",
      "  X = x[:, np.newaxis]\n"
     ]
    },
    {
     "data": {
      "text/plain": [
       "LinearRegression()"
      ]
     },
     "execution_count": 28,
     "metadata": {},
     "output_type": "execute_result"
    }
   ],
   "source": [
    "X = x[:, np.newaxis]\n",
    "X.shape\n",
    "model.fit(X, y)\n"
   ]
  },
  {
   "cell_type": "code",
   "execution_count": 29,
   "id": "3f76e1f9",
   "metadata": {},
   "outputs": [
    {
     "data": {
      "text/plain": [
       "array([0.00033348])"
      ]
     },
     "execution_count": 29,
     "metadata": {},
     "output_type": "execute_result"
    }
   ],
   "source": [
    "model.coef_ "
   ]
  },
  {
   "cell_type": "code",
   "execution_count": 30,
   "id": "87b2b913",
   "metadata": {},
   "outputs": [
    {
     "data": {
      "text/plain": [
       "2.392648774162824"
      ]
     },
     "execution_count": 30,
     "metadata": {},
     "output_type": "execute_result"
    }
   ],
   "source": [
    "model.intercept_ # This is the bias value\n"
   ]
  },
  {
   "cell_type": "code",
   "execution_count": 31,
   "id": "5ff2f33f",
   "metadata": {},
   "outputs": [
    {
     "data": {
      "text/plain": [
       "array([-1.00000000e+00,  1.52963265e+03,  3.06026531e+03,  4.59089796e+03,\n",
       "        6.12153061e+03,  7.65216327e+03,  9.18279592e+03,  1.07134286e+04,\n",
       "        1.22440612e+04,  1.37746939e+04,  1.53053265e+04,  1.68359592e+04,\n",
       "        1.83665918e+04,  1.98972245e+04,  2.14278571e+04,  2.29584898e+04,\n",
       "        2.44891224e+04,  2.60197551e+04,  2.75503878e+04,  2.90810204e+04,\n",
       "        3.06116531e+04,  3.21422857e+04,  3.36729184e+04,  3.52035510e+04,\n",
       "        3.67341837e+04,  3.82648163e+04,  3.97954490e+04,  4.13260816e+04,\n",
       "        4.28567143e+04,  4.43873469e+04,  4.59179796e+04,  4.74486122e+04,\n",
       "        4.89792449e+04,  5.05098776e+04,  5.20405102e+04,  5.35711429e+04,\n",
       "        5.51017755e+04,  5.66324082e+04,  5.81630408e+04,  5.96936735e+04,\n",
       "        6.12243061e+04,  6.27549388e+04,  6.42855714e+04,  6.58162041e+04,\n",
       "        6.73468367e+04,  6.88774694e+04,  7.04081020e+04,  7.19387347e+04,\n",
       "        7.34693673e+04,  7.50000000e+04])"
      ]
     },
     "execution_count": 31,
     "metadata": {},
     "output_type": "execute_result"
    }
   ],
   "source": [
    "xfit = np.linspace(-1, 75000)\n",
    "xfit"
   ]
  },
  {
   "cell_type": "code",
   "execution_count": 32,
   "id": "8cd59424",
   "metadata": {},
   "outputs": [
    {
     "data": {
      "text/plain": [
       "array([ 2.39231529,  2.90275279,  3.41319028,  3.92362777,  4.43406527,\n",
       "        4.94450276,  5.45494025,  5.96537774,  6.47581524,  6.98625273,\n",
       "        7.49669022,  8.00712772,  8.51756521,  9.0280027 ,  9.5384402 ,\n",
       "       10.04887769, 10.55931518, 11.06975268, 11.58019017, 12.09062766,\n",
       "       12.60106516, 13.11150265, 13.62194014, 14.13237763, 14.64281513,\n",
       "       15.15325262, 15.66369011, 16.17412761, 16.6845651 , 17.19500259,\n",
       "       17.70544009, 18.21587758, 18.72631507, 19.23675257, 19.74719006,\n",
       "       20.25762755, 20.76806505, 21.27850254, 21.78894003, 22.29937752,\n",
       "       22.80981502, 23.32025251, 23.83069   , 24.3411275 , 24.85156499,\n",
       "       25.36200248, 25.87243998, 26.38287747, 26.89331496, 27.40375246])"
      ]
     },
     "execution_count": 32,
     "metadata": {},
     "output_type": "execute_result"
    }
   ],
   "source": [
    "Xfit = xfit[:, np.newaxis]\n",
    "yfit = model.predict(Xfit)\n",
    "yfit"
   ]
  },
  {
   "cell_type": "code",
   "execution_count": 33,
   "id": "a4c64237",
   "metadata": {},
   "outputs": [
    {
     "data": {
      "image/png": "[encoded data removed]",
      "text/plain": [
       "<Figure size 432x288 with 1 Axes>"
      ]
     },
     "metadata": {
      "needs_background": "light"
     },
     "output_type": "display_data"
    }
   ],
   "source": [
    "plt.scatter(x, y)\n",
    "plt.xlabel(\"Adj Close IPC\")\n",
    "plt.ylabel(\"Adj Close ALFAA\")\n",
    "plt.plot(xfit, yfit);\n",
    "plt.show()"
   ]
  },
  {
   "cell_type": "code",
   "execution_count": 34,
   "id": "1e06cc4a",
   "metadata": {},
   "outputs": [],
   "source": [
    "# Y = 0.00010456X + 9.94"
   ]
  },
  {
   "cell_type": "code",
   "execution_count": 35,
   "id": "e969e11a",
   "metadata": {},
   "outputs": [
    {
     "data": {
      "text/plain": [
       "164.7211166024989"
      ]
     },
     "execution_count": 35,
     "metadata": {},
     "output_type": "execute_result"
    }
   ],
   "source": [
    "import sklearn.metrics\n",
    "y = np.array(y)\n",
    "\n",
    "\n",
    "sklearn.metrics.mean_squared_error(y[:50], yfit)\n",
    "\n",
    "# WE CAN SEE A POSIRIVE REALTION, THUS NOT A STRONG RELATIONSHIP AS WE HAVE\n",
    "# A BIG ERROR"
   ]
  },
  {
   "cell_type": "code",
   "execution_count": 38,
   "id": "4c0f6f1e",
   "metadata": {},
   "outputs": [
    {
     "name": "stdout",
     "output_type": "stream",
     "text": [
      "Collecting researchpy\n",
      "  Downloading researchpy-0.3.2-py3-none-any.whl (15 kB)\n",
      "Requirement already satisfied: scipy in c:\\users\\cutic\\anaconda3\\lib\\site-packages (from researchpy) (1.6.2)\n",
      "Requirement already satisfied: patsy in c:\\users\\cutic\\anaconda3\\lib\\site-packages (from researchpy) (0.5.1)\n",
      "Requirement already satisfied: statsmodels in c:\\users\\cutic\\anaconda3\\lib\\site-packages (from researchpy) (0.12.2)\n",
      "Requirement already satisfied: pandas in c:\\users\\cutic\\anaconda3\\lib\\site-packages (from researchpy) (1.2.4)\n",
      "Requirement already satisfied: numpy in c:\\users\\cutic\\anaconda3\\lib\\site-packages (from researchpy) (1.20.1)\n",
      "Requirement already satisfied: python-dateutil>=2.7.3 in c:\\users\\cutic\\anaconda3\\lib\\site-packages (from pandas->researchpy) (2.8.1)\n",
      "Requirement already satisfied: pytz>=2017.3 in c:\\users\\cutic\\anaconda3\\lib\\site-packages (from pandas->researchpy) (2021.1)\n",
      "Requirement already satisfied: six>=1.5 in c:\\users\\cutic\\anaconda3\\lib\\site-packages (from python-dateutil>=2.7.3->pandas->researchpy) (1.15.0)\n",
      "Installing collected packages: researchpy\n",
      "Successfully installed researchpy-0.3.2\n"
     ]
    }
   ],
   "source": [
    "!pip install researchpy"
   ]
  },
  {
   "cell_type": "code",
   "execution_count": 40,
   "id": "8956d59b",
   "metadata": {},
   "outputs": [
    {
     "data": {
      "text/plain": [
       "(    Variable      N      Mean        SD        SE  95% Conf.  Interval\n",
       " 0  Adj Close   67.0 -0.008823  0.126256  0.015425  -0.039619  0.021973\n",
       " 1  Adj Close   67.0  0.000503  0.048744  0.005955  -0.011387  0.012393\n",
       " 2   combined  134.0 -0.004160  0.095454  0.008246  -0.020470  0.012150,\n",
       "                           Welch's t-test  results\n",
       " 0  Difference (Adj Close - Adj Close) =   -0.0093\n",
       " 1                  Degrees of freedom =   85.8306\n",
       " 2                                   t =   -0.5640\n",
       " 3               Two side test p value =    0.5742\n",
       " 4              Difference < 0 p value =    0.2871\n",
       " 5              Difference > 0 p value =    0.7129\n",
       " 6                           Cohen's d =   -0.0975\n",
       " 7                           Hedge's g =   -0.0969\n",
       " 8                       Glass's delta =   -0.0739\n",
       " 9                         Pearson's r =    0.0608)"
      ]
     },
     "execution_count": 40,
     "metadata": {},
     "output_type": "execute_result"
    }
   ],
   "source": [
    "import researchpy as rp\n",
    "ALFAA_r = np.log(ALFAA['Adj Close']) - np.log(ALFAA['Adj Close'].shift(1))\n",
    "MXX_r = np.log(MXX['Adj Close']) - np.log(MXX['Adj Close'].shift(1))\n",
    "\n",
    "rp.ttest(ALFAA_r,MXX_r,equal_variances=False)"
   ]
  },
  {
   "cell_type": "code",
   "execution_count": 41,
   "id": "bf354d3b",
   "metadata": {},
   "outputs": [],
   "source": [
    "# WE OBSERVE LOW CONFIDENCE INTERVALS, THAT INDICATES US THAT WE SHOULD TRUST\n",
    "#SO MUCH IN THE MODEL."
   ]
  },
  {
   "cell_type": "code",
   "execution_count": null,
   "id": "77d425f8",
   "metadata": {},
   "outputs": [],
   "source": [
    "wq"
   ]
  }
 ],
 "metadata": {
  "kernelspec": {
   "display_name": "Python 3",
   "language": "python",
   "name": "python3"
  },
  "language_info": {
   "codemirror_mode": {
    "name": "ipython",
    "version": 3
   },
   "file_extension": ".py",
   "mimetype": "text/x-python",
   "name": "python",
   "nbconvert_exporter": "python",
   "pygments_lexer": "ipython3",
   "version": "3.8.8"
  }
 },
 "nbformat": 4,
 "nbformat_minor": 5
}
