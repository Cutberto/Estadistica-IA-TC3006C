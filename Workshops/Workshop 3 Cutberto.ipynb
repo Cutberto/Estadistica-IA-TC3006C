{
 "cells": [
  {
   "cell_type": "markdown",
   "id": "33bf5e8c",
   "metadata": {},
   "source": [
    "3.1 CHALLENGE - IS AMD MEAN RETURN HIGHER THAN INTEL MEAN RETURN?"
   ]
  },
  {
   "cell_type": "markdown",
   "id": "8ab14d12",
   "metadata": {},
   "source": [
    "H0: MEAN(R_AMD) > MEAN(R_INTC)\n",
    "\n",
    "HA: MEAN(R_AMD) < MEAN(R_INTC)\n",
    "\n",
    "...\n",
    "\n",
    "H0: MEAN(R_AMD) - MEAN(R_INTC) = 0\n",
    "\n",
    "HA: MEAN(R_AMD) - MEAN(R_INTC) <> 0"
   ]
  },
  {
   "cell_type": "code",
   "execution_count": 2,
   "id": "feb2b390",
   "metadata": {},
   "outputs": [],
   "source": [
    "import numpy as np\n",
    "import pandas as pd\n",
    "import pandas_datareader as pdr\n",
    "import math \n",
    "INTC = pdr.get_data_yahoo('INTC',\n",
    "start=\"01/01/2019\", interval=\"m\")\n",
    "INTC[\"r\"]= (np.log(INTC[\"Adj Close\"]) - np.log(INTC[\"Adj Close\"].shift(1)))\n",
    "AMD = pdr.get_data_yahoo('AMD',\n",
    "start=\"01/01/2019\", interval=\"m\")\n",
    "AMD[\"r\"]= (np.log(AMD[\"Adj Close\"]) - np.log(AMD[\"Adj Close\"].shift(1)))\n",
    "N=45"
   ]
  },
  {
   "cell_type": "code",
   "execution_count": 3,
   "id": "d63a0dc1",
   "metadata": {},
   "outputs": [
    {
     "name": "stdout",
     "output_type": "stream",
     "text": [
      "                 High        Low       Open      Close      Volume  Adj Close  \\\n",
      "Date                                                                            \n",
      "2019-01-01  25.139999  16.940001  18.010000  24.410000  2311913200  24.410000   \n",
      "2019-02-01  25.520000  22.270000  24.610001  23.530001  1301360800  23.530001   \n",
      "2019-03-01  28.110001  21.040001  23.969999  25.520000  1499160400  25.520000   \n",
      "2019-04-01  29.950001  25.830000  26.420000  27.629999  1275793800  27.629999   \n",
      "2019-05-01  29.670000  26.030001  28.950001  27.410000  1675142900  27.410000   \n",
      "\n",
      "                   r  \n",
      "Date                  \n",
      "2019-01-01       NaN  \n",
      "2019-02-01 -0.036717  \n",
      "2019-03-01  0.081186  \n",
      "2019-04-01  0.079440  \n",
      "2019-05-01 -0.007994  \n"
     ]
    }
   ],
   "source": [
    "print(AMD.head())"
   ]
  },
  {
   "cell_type": "code",
   "execution_count": 4,
   "id": "83e66ad8",
   "metadata": {},
   "outputs": [
    {
     "name": "stdout",
     "output_type": "stream",
     "text": [
      "<class 'pandas.core.frame.DataFrame'>\n",
      "DatetimeIndex: 45 entries, 2019-01-01 to 2022-08-18\n",
      "Data columns (total 7 columns):\n",
      " #   Column     Non-Null Count  Dtype  \n",
      "---  ------     --------------  -----  \n",
      " 0   High       45 non-null     float64\n",
      " 1   Low        45 non-null     float64\n",
      " 2   Open       45 non-null     float64\n",
      " 3   Close      45 non-null     float64\n",
      " 4   Volume     45 non-null     float64\n",
      " 5   Adj Close  45 non-null     float64\n",
      " 6   r          44 non-null     float64\n",
      "dtypes: float64(7)\n",
      "memory usage: 2.8 KB\n",
      "None\n"
     ]
    }
   ],
   "source": [
    "print(INTC.info())"
   ]
  },
  {
   "cell_type": "code",
   "execution_count": 5,
   "id": "88ca7455",
   "metadata": {},
   "outputs": [
    {
     "name": "stdout",
     "output_type": "stream",
     "text": [
      "High         7.567942e+00\n",
      "Low          6.202616e+00\n",
      "Open         6.794968e+00\n",
      "Close        7.076505e+00\n",
      "Volume       1.910583e+08\n",
      "Adj Close    6.301817e+00\n",
      "r            8.323048e-02\n",
      "dtype: float64\n"
     ]
    }
   ],
   "source": [
    "#CALCULATE THE STANDARD ERROR, WHICH IS THE STANDARD DEVIATION OF THE VARIABLE OF STUDY.\n",
    "print(INTC.std())\n",
    "INTC_MEAN = INTC['r'].mean()\n",
    "INTC_STD = INTC['r'].std()\n",
    "INTC_VAR = INTC['r'].var()"
   ]
  },
  {
   "cell_type": "code",
   "execution_count": 6,
   "id": "be4f1d93",
   "metadata": {},
   "outputs": [
    {
     "name": "stdout",
     "output_type": "stream",
     "text": [
      "High         3.852761e+01\n",
      "Low          3.036054e+01\n",
      "Open         3.578659e+01\n",
      "Close        3.491131e+01\n",
      "Volume       5.253289e+08\n",
      "Adj Close    3.491131e+01\n",
      "r            1.345826e-01\n",
      "dtype: float64\n"
     ]
    }
   ],
   "source": [
    "print(AMD.std())\n",
    "AMD_MEAN = AMD['r'].mean()\n",
    "AMD_STD = AMD['r'].std()\n",
    "AMD_VAR = AMD['r'].var()"
   ]
  },
  {
   "cell_type": "code",
   "execution_count": 7,
   "id": "9b5616fe",
   "metadata": {},
   "outputs": [
    {
     "data": {
      "text/plain": [
       "0.023855523242977506"
      ]
     },
     "execution_count": 7,
     "metadata": {},
     "output_type": "execute_result"
    }
   ],
   "source": [
    "STD_DIFF = (math.sqrt(AMD_VAR + INTC_VAR/N))\n",
    "STD_DIFF\n",
    "STD_DIFF = math.sqrt((1/AMD[\"r\"].count())*(AMD_VAR+INTC_VAR))\n",
    "STD_DIFF"
   ]
  },
  {
   "cell_type": "code",
   "execution_count": 8,
   "id": "3ce18a27",
   "metadata": {},
   "outputs": [
    {
     "data": {
      "text/plain": [
       "1.4949342397324623"
      ]
     },
     "execution_count": 8,
     "metadata": {},
     "output_type": "execute_result"
    }
   ],
   "source": [
    "#CALCULATE THE t-statistic (t-value). EXPLAIN/INTERPRET THE t-statistic.\n",
    "t_value= ((AMD_MEAN - INTC_MEAN) -0) / STD_DIFF\n",
    "t_value"
   ]
  },
  {
   "cell_type": "code",
   "execution_count": 9,
   "id": "b7834a6a",
   "metadata": {},
   "outputs": [
    {
     "data": {
      "text/plain": [
       "-0.012048607983294352"
      ]
     },
     "execution_count": 9,
     "metadata": {},
     "output_type": "execute_result"
    }
   ],
   "source": [
    "#CALCULATE THE 95% CONFIDENCE INTERVAL OF THE SAMPLE MEAN\n",
    "min_ci = (AMD_MEAN - INTC_MEAN) - 2 * (STD_DIFF)\n",
    "min_ci"
   ]
  },
  {
   "cell_type": "code",
   "execution_count": 10,
   "id": "4ddbbf77",
   "metadata": {},
   "outputs": [
    {
     "data": {
      "text/plain": [
       "0.08337348498861567"
      ]
     },
     "execution_count": 10,
     "metadata": {},
     "output_type": "execute_result"
    }
   ],
   "source": [
    "#CALCULATE THE 95% CONFIDENCE INTERVAL OF THE SAMPLE MEAN\n",
    "max_ci = (AMD_MEAN - INTC_MEAN) + 2 * (STD_DIFF)\n",
    "max_ci"
   ]
  },
  {
   "cell_type": "code",
   "execution_count": 29,
   "id": "f842b25a",
   "metadata": {},
   "outputs": [
    {
     "name": "stdout",
     "output_type": "stream",
     "text": [
      "Collecting yfinance\n",
      "  Downloading yfinance-0.1.74-py2.py3-none-any.whl (27 kB)\n",
      "Requirement already satisfied: lxml>=4.5.1 in c:\\users\\cutic\\anaconda3\\lib\\site-packages (from yfinance) (4.6.3)\n",
      "Requirement already satisfied: numpy>=1.15 in c:\\users\\cutic\\anaconda3\\lib\\site-packages (from yfinance) (1.20.1)\n",
      "Requirement already satisfied: pandas>=0.24.0 in c:\\users\\cutic\\anaconda3\\lib\\site-packages (from yfinance) (1.2.4)\n",
      "Collecting multitasking>=0.0.7\n",
      "  Downloading multitasking-0.0.11-py3-none-any.whl (8.5 kB)\n",
      "Collecting requests>=2.26\n",
      "  Downloading requests-2.28.1-py3-none-any.whl (62 kB)\n",
      "Requirement already satisfied: pytz>=2017.3 in c:\\users\\cutic\\anaconda3\\lib\\site-packages (from pandas>=0.24.0->yfinance) (2021.1)\n",
      "Requirement already satisfied: python-dateutil>=2.7.3 in c:\\users\\cutic\\anaconda3\\lib\\site-packages (from pandas>=0.24.0->yfinance) (2.8.1)\n",
      "Requirement already satisfied: six>=1.5 in c:\\users\\cutic\\anaconda3\\lib\\site-packages (from python-dateutil>=2.7.3->pandas>=0.24.0->yfinance) (1.15.0)\n",
      "Requirement already satisfied: urllib3<1.27,>=1.21.1 in c:\\users\\cutic\\anaconda3\\lib\\site-packages (from requests>=2.26->yfinance) (1.26.4)\n",
      "Requirement already satisfied: idna<4,>=2.5 in c:\\users\\cutic\\anaconda3\\lib\\site-packages (from requests>=2.26->yfinance) (2.10)\n",
      "Collecting charset-normalizer<3,>=2\n",
      "  Downloading charset_normalizer-2.1.0-py3-none-any.whl (39 kB)\n",
      "Requirement already satisfied: certifi>=2017.4.17 in c:\\users\\cutic\\anaconda3\\lib\\site-packages (from requests>=2.26->yfinance) (2020.12.5)\n",
      "Installing collected packages: charset-normalizer, requests, multitasking, yfinance\n",
      "  Attempting uninstall: requests\n",
      "    Found existing installation: requests 2.25.1\n",
      "    Uninstalling requests-2.25.1:\n",
      "      Successfully uninstalled requests-2.25.1\n",
      "Successfully installed charset-normalizer-2.1.0 multitasking-0.0.11 requests-2.28.1 yfinance-0.1.74\n"
     ]
    },
    {
     "name": "stderr",
     "output_type": "stream",
     "text": [
      "ERROR: pip's dependency resolver does not currently take into account all the packages that are installed. This behaviour is the source of the following dependency conflicts.\n",
      "conda-repo-cli 1.0.4 requires pathlib, which is not installed.\n",
      "anaconda-project 0.9.1 requires ruamel-yaml, which is not installed.\n"
     ]
    },
    {
     "name": "stdout",
     "output_type": "stream",
     "text": [
      "[*********************100%***********************]  2 of 2 completed\n"
     ]
    }
   ],
   "source": [
    "!pip install yfinance\n",
    "import numpy as np\n",
    "import pandas as pd\n",
    "import pandas_datareader as pdr\n",
    "import yfinance as yf\n",
    "import matplotlib\n",
    "import matplotlib.pyplot as plt\n",
    "\n",
    "# We download price data for Microsoft and the S&P500 index:\n",
    "prices=yf.download(tickers=\"MSFT ^GSPC\", start=\"2019-01-01\",interval=\"1mo\")\n",
    "# We select Adjusted closing prices and drop any row with NA values:\n",
    "adjprices = prices['Adj Close'].dropna()"
   ]
  },
  {
   "cell_type": "code",
   "execution_count": 30,
   "id": "9a7f95fc",
   "metadata": {},
   "outputs": [
    {
     "data": {
      "text/plain": [
       "<Figure size 432x288 with 0 Axes>"
      ]
     },
     "metadata": {},
     "output_type": "display_data"
    },
    {
     "data": {
      "image/png": "[encoded data removed]",
      "text/plain": [
       "<Figure size 432x288 with 1 Axes>"
      ]
     },
     "metadata": {
      "needs_background": "light"
     },
     "output_type": "display_data"
    }
   ],
   "source": [
    "plt.clf()\n",
    "adjprices.plot(y=['MSFT','^GSPC'])\n",
    "plt.show()"
   ]
  },
  {
   "cell_type": "code",
   "execution_count": 31,
   "id": "05e95f85",
   "metadata": {},
   "outputs": [],
   "source": [
    "adjprices['iMSFT'] = adjprices['MSFT'] / adjprices['MSFT'][0]\n",
    "adjprices['iGSPC'] = adjprices['^GSPC'] / adjprices['^GSPC'][0]"
   ]
  },
  {
   "cell_type": "code",
   "execution_count": 32,
   "id": "ceddce94",
   "metadata": {},
   "outputs": [
    {
     "data": {
      "text/plain": [
       "<Figure size 432x288 with 0 Axes>"
      ]
     },
     "metadata": {},
     "output_type": "display_data"
    },
    {
     "data": {
      "image/png": "[encoded data removed]",
      "text/plain": [
       "<Figure size 432x288 with 1 Axes>"
      ]
     },
     "metadata": {
      "needs_background": "light"
     },
     "output_type": "display_data"
    }
   ],
   "source": [
    "plt.clf()\n",
    "adjprices.plot(y=['iMSFT','iGSPC'])\n",
    "plt.show()"
   ]
  },
  {
   "cell_type": "code",
   "execution_count": 33,
   "id": "59974bdc",
   "metadata": {},
   "outputs": [],
   "source": [
    "r = np.log(adjprices) - np.log(adjprices.shift(1))\n",
    "# Dropping rows with NA values (the first month will have NAs)\n",
    "r = r.dropna()\n",
    "# Selecting only 2 columns (out of the 4 columns):\n",
    "r = r[['MSFT','^GSPC']]\n",
    "# Renameing the column names:\n",
    "r.columns = ['MSFT','GSPC']"
   ]
  },
  {
   "cell_type": "code",
   "execution_count": 34,
   "id": "0eea22d2",
   "metadata": {},
   "outputs": [
    {
     "data": {
      "text/html": [
       "<div>\n",
       "<style scoped>\n",
       "    .dataframe tbody tr th:only-of-type {\n",
       "        vertical-align: middle;\n",
       "    }\n",
       "\n",
       "    .dataframe tbody tr th {\n",
       "        vertical-align: top;\n",
       "    }\n",
       "\n",
       "    .dataframe thead th {\n",
       "        text-align: right;\n",
       "    }\n",
       "</style>\n",
       "<table border=\"1\" class=\"dataframe\">\n",
       "  <thead>\n",
       "    <tr style=\"text-align: right;\">\n",
       "      <th></th>\n",
       "      <th>MSFT</th>\n",
       "      <th>GSPC</th>\n",
       "    </tr>\n",
       "    <tr>\n",
       "      <th>Date</th>\n",
       "      <th></th>\n",
       "      <th></th>\n",
       "    </tr>\n",
       "  </thead>\n",
       "  <tbody>\n",
       "    <tr>\n",
       "      <th>2019-02-01</th>\n",
       "      <td>0.070250</td>\n",
       "      <td>0.029296</td>\n",
       "    </tr>\n",
       "    <tr>\n",
       "      <th>2019-03-01</th>\n",
       "      <td>0.055671</td>\n",
       "      <td>0.017766</td>\n",
       "    </tr>\n",
       "    <tr>\n",
       "      <th>2019-04-01</th>\n",
       "      <td>0.101963</td>\n",
       "      <td>0.038560</td>\n",
       "    </tr>\n",
       "    <tr>\n",
       "      <th>2019-05-01</th>\n",
       "      <td>-0.054442</td>\n",
       "      <td>-0.068041</td>\n",
       "    </tr>\n",
       "    <tr>\n",
       "      <th>2019-06-01</th>\n",
       "      <td>0.083538</td>\n",
       "      <td>0.066658</td>\n",
       "    </tr>\n",
       "  </tbody>\n",
       "</table>\n",
       "</div>"
      ],
      "text/plain": [
       "                MSFT      GSPC\n",
       "Date                          \n",
       "2019-02-01  0.070250  0.029296\n",
       "2019-03-01  0.055671  0.017766\n",
       "2019-04-01  0.101963  0.038560\n",
       "2019-05-01 -0.054442 -0.068041\n",
       "2019-06-01  0.083538  0.066658"
      ]
     },
     "execution_count": 34,
     "metadata": {},
     "output_type": "execute_result"
    }
   ],
   "source": [
    "r.head()"
   ]
  },
  {
   "cell_type": "code",
   "execution_count": 35,
   "id": "f003d231",
   "metadata": {},
   "outputs": [
    {
     "data": {
      "text/plain": [
       "<Figure size 432x288 with 0 Axes>"
      ]
     },
     "metadata": {},
     "output_type": "display_data"
    },
    {
     "data": {
      "image/png": "[encoded data removed]",
      "text/plain": [
       "<Figure size 432x288 with 1 Axes>"
      ]
     },
     "metadata": {
      "needs_background": "light"
     },
     "output_type": "display_data"
    }
   ],
   "source": [
    "plt.clf()\n",
    "r.plot.scatter(x='GSPC', y='MSFT',c='DarkBlue')\n",
    "plt.show()"
   ]
  },
  {
   "cell_type": "code",
   "execution_count": 36,
   "id": "e4aab908",
   "metadata": {},
   "outputs": [
    {
     "data": {
      "text/plain": [
       "<Figure size 432x288 with 0 Axes>"
      ]
     },
     "metadata": {},
     "output_type": "display_data"
    },
    {
     "data": {
      "image/png": "[encoded data removed]",
      "text/plain": [
       "<Figure size 432x288 with 1 Axes>"
      ]
     },
     "metadata": {
      "needs_background": "light"
     },
     "output_type": "display_data"
    }
   ],
   "source": [
    "plt.clf()\n",
    "adjprices.plot.scatter(x='^GSPC', y='MSFT',c='DarkBlue')\n",
    "plt.show()"
   ]
  },
  {
   "cell_type": "code",
   "execution_count": 37,
   "id": "a440ff2c",
   "metadata": {},
   "outputs": [
    {
     "data": {
      "text/plain": [
       "<Figure size 432x288 with 0 Axes>"
      ]
     },
     "metadata": {},
     "output_type": "display_data"
    },
    {
     "data": {
      "image/png": "[encoded data removed]",
      "text/plain": [
       "<Figure size 432x288 with 1 Axes>"
      ]
     },
     "metadata": {
      "needs_background": "light"
     },
     "output_type": "display_data"
    }
   ],
   "source": [
    "plt.clf()\n",
    "adjprices.plot.scatter(x='^GSPC', y='MSFT',c='DarkBlue')\n",
    "plt.show()"
   ]
  },
  {
   "cell_type": "code",
   "execution_count": 38,
   "id": "c4671f8e",
   "metadata": {},
   "outputs": [
    {
     "data": {
      "text/plain": [
       "0.002469534247766499"
      ]
     },
     "execution_count": 38,
     "metadata": {},
     "output_type": "execute_result"
    }
   ],
   "source": [
    "msft_mean = r['MSFT'].mean()\n",
    "gspc_mean = r['GSPC'].mean()\n",
    "N = r['GSPC'].count()\n",
    "sum_of_prod = ((r['MSFT'] - msft_mean) * (r['GSPC'] - gspc_mean) ).sum()  \n",
    "cov = sum_of_prod / (N-1)\n",
    "cov"
   ]
  },
  {
   "cell_type": "code",
   "execution_count": 39,
   "id": "8994aa4c",
   "metadata": {},
   "outputs": [
    {
     "data": {
      "text/plain": [
       "array([[0.00348395, 0.00246953],\n",
       "       [0.00246953, 0.00279178]])"
      ]
     },
     "execution_count": 39,
     "metadata": {},
     "output_type": "execute_result"
    }
   ],
   "source": [
    "covm = np.cov(r['MSFT'],r['GSPC'])\n",
    "covm"
   ]
  },
  {
   "cell_type": "code",
   "execution_count": 40,
   "id": "e367f934",
   "metadata": {},
   "outputs": [
    {
     "data": {
      "text/plain": [
       "0.002469534247766499"
      ]
     },
     "execution_count": 40,
     "metadata": {},
     "output_type": "execute_result"
    }
   ],
   "source": [
    "cov = covm[0,1]\n",
    "cov"
   ]
  },
  {
   "cell_type": "code",
   "execution_count": 41,
   "id": "b4a109e2",
   "metadata": {},
   "outputs": [
    {
     "data": {
      "text/plain": [
       "array([[1.        , 0.79184234],\n",
       "       [0.79184234, 1.        ]])"
      ]
     },
     "execution_count": 41,
     "metadata": {},
     "output_type": "execute_result"
    }
   ],
   "source": [
    "corr = np.corrcoef(r['MSFT'],r['GSPC'])\n",
    "corr"
   ]
  },
  {
   "cell_type": "code",
   "execution_count": 42,
   "id": "8b247f48",
   "metadata": {},
   "outputs": [
    {
     "data": {
      "text/plain": [
       "0.7918423414434584"
      ]
     },
     "execution_count": 42,
     "metadata": {},
     "output_type": "execute_result"
    }
   ],
   "source": [
    "corr2 = cov / (r['MSFT'].std() * r['GSPC'].std())\n",
    "corr2"
   ]
  },
  {
   "cell_type": "code",
   "execution_count": 43,
   "id": "d294a076",
   "metadata": {},
   "outputs": [
    {
     "data": {
      "text/plain": [
       "(0.7918423414434586, 1.5450193820270284e-10)"
      ]
     },
     "execution_count": 43,
     "metadata": {},
     "output_type": "execute_result"
    }
   ],
   "source": [
    "from scipy.stats import pearsonr\n",
    "corr2 = pearsonr(r['MSFT'],r['GSPC'])\n",
    "corr2"
   ]
  },
  {
   "cell_type": "code",
   "execution_count": null,
   "id": "5dd560d9",
   "metadata": {},
   "outputs": [],
   "source": []
  }
 ],
 "metadata": {
  "kernelspec": {
   "display_name": "Python 3",
   "language": "python",
   "name": "python3"
  },
  "language_info": {
   "codemirror_mode": {
    "name": "ipython",
    "version": 3
   },
   "file_extension": ".py",
   "mimetype": "text/x-python",
   "name": "python",
   "nbconvert_exporter": "python",
   "pygments_lexer": "ipython3",
   "version": "3.8.8"
  }
 },
 "nbformat": 4,
 "nbformat_minor": 5
}
