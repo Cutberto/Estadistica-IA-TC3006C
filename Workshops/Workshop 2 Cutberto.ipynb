{
 "cells": [
  {
   "cell_type": "code",
   "execution_count": 1,
   "id": "88872b0f",
   "metadata": {},
   "outputs": [
    {
     "name": "stdout",
     "output_type": "stream",
     "text": [
      "Collecting symbulate\n",
      "  Downloading symbulate-0.5.7-py3-none-any.whl (44 kB)\n",
      "Requirement already satisfied: matplotlib in c:\\users\\cutic\\anaconda3\\lib\\site-packages (from symbulate) (3.3.4)\n",
      "Requirement already satisfied: numpy in c:\\users\\cutic\\anaconda3\\lib\\site-packages (from symbulate) (1.20.1)\n",
      "Requirement already satisfied: scipy in c:\\users\\cutic\\anaconda3\\lib\\site-packages (from symbulate) (1.6.2)\n",
      "Requirement already satisfied: pyparsing!=2.0.4,!=2.1.2,!=2.1.6,>=2.0.3 in c:\\users\\cutic\\anaconda3\\lib\\site-packages (from matplotlib->symbulate) (2.4.7)\n",
      "Requirement already satisfied: pillow>=6.2.0 in c:\\users\\cutic\\anaconda3\\lib\\site-packages (from matplotlib->symbulate) (8.2.0)\n",
      "Requirement already satisfied: python-dateutil>=2.1 in c:\\users\\cutic\\anaconda3\\lib\\site-packages (from matplotlib->symbulate) (2.8.1)\n",
      "Requirement already satisfied: cycler>=0.10 in c:\\users\\cutic\\anaconda3\\lib\\site-packages (from matplotlib->symbulate) (0.10.0)\n",
      "Requirement already satisfied: kiwisolver>=1.0.1 in c:\\users\\cutic\\anaconda3\\lib\\site-packages (from matplotlib->symbulate) (1.3.1)\n",
      "Requirement already satisfied: six in c:\\users\\cutic\\anaconda3\\lib\\site-packages (from cycler>=0.10->matplotlib->symbulate) (1.15.0)\n",
      "Installing collected packages: symbulate\n",
      "Successfully installed symbulate-0.5.7\n"
     ]
    }
   ],
   "source": [
    "!pip install symbulate"
   ]
  },
  {
   "cell_type": "code",
   "execution_count": 2,
   "id": "e3fd76c7",
   "metadata": {},
   "outputs": [],
   "source": [
    "from symbulate import *\n",
    "#'exec(%matplotlib inline)' \n",
    "import matplotlib\n",
    "\n",
    "import matplotlib.pyplot as plt"
   ]
  },
  {
   "cell_type": "code",
   "execution_count": 4,
   "id": "610634d9",
   "metadata": {},
   "outputs": [
    {
     "data": {
      "image/png": "[encoded data removed]",
      "text/plain": [
       "<Figure size 432x288 with 1 Axes>"
      ]
     },
     "metadata": {
      "needs_background": "light"
     },
     "output_type": "display_data"
    }
   ],
   "source": [
    "# clear the plot space:\n",
    "plt.clf()\n",
    "# Define the probability type of function as uniform (probability space)\n",
    "P = Uniform(0,40)\n",
    "# Define X as a random variable of the type P (uniform)\n",
    "X =RV(P)\n",
    "# Simulate the values of X and save the in the x array: \n",
    "x=X.sim(10000)\n",
    "x.plot()\n",
    "plt.show()"
   ]
  },
  {
   "cell_type": "code",
   "execution_count": 5,
   "id": "62033627",
   "metadata": {},
   "outputs": [
    {
     "name": "stdout",
     "output_type": "stream",
     "text": [
      "11.66361027588581\n",
      "19.986610095916586\n"
     ]
    }
   ],
   "source": [
    "print(x.std())\n",
    "print(x.mean())"
   ]
  },
  {
   "cell_type": "markdown",
   "id": "0bea4626",
   "metadata": {},
   "source": [
    "I CAN OBSERVE A DISTRIBUTION WHERE EACH ELEMENT HAS A SIMILAR AMMOUNT OF APPEREANCES, DUE TO THE NORMAL DISTRIBUTION OF THE RANDOMNESS"
   ]
  },
  {
   "cell_type": "code",
   "execution_count": 7,
   "id": "46e9dd17",
   "metadata": {},
   "outputs": [],
   "source": [
    "# Define the probability space as a vector of 25 uniform random numbers:\n",
    "P = Uniform(0,40) ** 25\n",
    "# Define XVECTOR as a vector of random variables with 25 random values \n",
    "XVECTOR =RV(P)\n",
    "# Simulate 10,000 vectors to get a matrix  \n",
    "xmatrix=XVECTOR.sim(10000)"
   ]
  },
  {
   "cell_type": "code",
   "execution_count": 8,
   "id": "637cef82",
   "metadata": {},
   "outputs": [
    {
     "data": {
      "text/html": [
       "\n",
       "    <table>\n",
       "      <thead>\n",
       "        <th width=\"10%\">Index</th>\n",
       "        <th width=\"90%\">Result</th>\n",
       "      </thead>\n",
       "      <tbody>\n",
       "        \n",
       "        <tr>\n",
       "          <td>0</td><td>(35.80613909102453, 9.076213932440602, 25.94767489689545, 36.59130586657873, 17.982159573073766, ......</td>\n",
       "        </tr>\n",
       "        \n",
       "        <tr>\n",
       "          <td>1</td><td>(1.9567321778418867, 3.1410509550083976, 6.8415238428734115, 0.9010953940286104, 37.642112995759874,...</td>\n",
       "        </tr>\n",
       "        \n",
       "        <tr>\n",
       "          <td>2</td><td>(36.929237972433924, 3.026250451493233, 29.582070603119877, 1.2364082869941395, 28.080533894598307, ...</td>\n",
       "        </tr>\n",
       "        \n",
       "        <tr>\n",
       "          <td>3</td><td>(16.334803072865803, 29.067489512219492, 16.909401220204842, 2.6731581106141533, 35.66169664378068, ...</td>\n",
       "        </tr>\n",
       "        \n",
       "        <tr>\n",
       "          <td>4</td><td>(19.836253853168067, 23.96169128593646, 11.347113940841624, 19.50293881431601, 24.011315346515318, ....</td>\n",
       "        </tr>\n",
       "        \n",
       "        <tr>\n",
       "          <td>5</td><td>(7.862274963300773, 28.13432524613553, 39.05451756755636, 10.710501640972279, 36.493510590589906, .....</td>\n",
       "        </tr>\n",
       "        \n",
       "        <tr>\n",
       "          <td>6</td><td>(3.606529713141895, 29.239986519566898, 2.7421249051299634, 25.678546670752933, 4.277071342076639, ....</td>\n",
       "        </tr>\n",
       "        \n",
       "        <tr>\n",
       "          <td>7</td><td>(5.178912212816051, 26.172619092256376, 35.913070798582346, 10.783386511890306, 25.146945097752578, ...</td>\n",
       "        </tr>\n",
       "        \n",
       "        <tr>\n",
       "          <td>8</td><td>(31.68511051452757, 3.3904338522981803, 8.591492081382754, 30.154186665026753, 13.889021297691073, ....</td>\n",
       "        </tr>\n",
       "        <tr><td>...</td><td>...</td></tr>\n",
       "        <tr>\n",
       "          <td>9999</td><td>(33.999827297086895, 17.940714307121727, 10.46820727778648, 27.991041405969305, 13.195397704865957, ...</td>\n",
       "        </tr>\n",
       "        \n",
       "      </tbody>\n",
       "    </table>\n",
       "        "
      ],
      "text/plain": [
       "Index Result\n",
       "0     (35.80613909102453, 9.076213932440602, 25.94767489689545, 36.59130586657873, 17.982159573073766, ..., 16.764209162954636)\n",
       "1     (1.9567321778418867, 3.1410509550083976, 6.8415238428734115, 0.9010953940286104, 37.642112995759874, ..., 28.566259167370006)\n",
       "2     (36.929237972433924, 3.026250451493233, 29.582070603119877, 1.2364082869941395, 28.080533894598307, ..., 12.515792793485389)\n",
       "3     (16.334803072865803, 29.067489512219492, 16.909401220204842, 2.6731581106141533, 35.66169664378068, ..., 22.608575744823902)\n",
       "4     (19.836253853168067, 23.96169128593646, 11.347113940841624, 19.50293881431601, 24.011315346515318, ..., 37.024316634586896)\n",
       "5     (7.862274963300773, 28.13432524613553, 39.05451756755636, 10.710501640972279, 36.493510590589906, ..., 3.805141321136678)\n",
       "6     (3.606529713141895, 29.239986519566898, 2.7421249051299634, 25.678546670752933, 4.277071342076639, ..., 37.07001078755283)\n",
       "7     (5.178912212816051, 26.172619092256376, 35.913070798582346, 10.783386511890306, 25.146945097752578, ..., 18.943336001019734)\n",
       "8     (31.68511051452757, 3.3904338522981803, 8.591492081382754, 30.154186665026753, 13.889021297691073, ..., 37.9870045550524)\n",
       "....  ...........................................................................................................................\n",
       "9999  (33.999827297086895, 17.940714307121727, 10.46820727778648, 27.991041405969305, 13.195397704865957, ..., 38.48471974132036)"
      ]
     },
     "execution_count": 8,
     "metadata": {},
     "output_type": "execute_result"
    }
   ],
   "source": [
    "xmatrix"
   ]
  },
  {
   "cell_type": "code",
   "execution_count": 9,
   "id": "792461e6",
   "metadata": {},
   "outputs": [
    {
     "data": {
      "text/html": [
       "\n",
       "    <table>\n",
       "      <thead>\n",
       "        <th width=\"10%\">Index</th>\n",
       "        <th width=\"90%\">Result</th>\n",
       "      </thead>\n",
       "      <tbody>\n",
       "        \n",
       "        <tr>\n",
       "          <td>0</td><td>21.26228220149837</td>\n",
       "        </tr>\n",
       "        \n",
       "        <tr>\n",
       "          <td>1</td><td>21.352213904861582</td>\n",
       "        </tr>\n",
       "        \n",
       "        <tr>\n",
       "          <td>2</td><td>17.778095334610136</td>\n",
       "        </tr>\n",
       "        \n",
       "        <tr>\n",
       "          <td>3</td><td>15.551981105299499</td>\n",
       "        </tr>\n",
       "        \n",
       "        <tr>\n",
       "          <td>4</td><td>21.192407898562095</td>\n",
       "        </tr>\n",
       "        \n",
       "        <tr>\n",
       "          <td>5</td><td>21.20413091865305</td>\n",
       "        </tr>\n",
       "        \n",
       "        <tr>\n",
       "          <td>6</td><td>17.83782408430533</td>\n",
       "        </tr>\n",
       "        \n",
       "        <tr>\n",
       "          <td>7</td><td>17.382661816997597</td>\n",
       "        </tr>\n",
       "        \n",
       "        <tr>\n",
       "          <td>8</td><td>17.430064551483277</td>\n",
       "        </tr>\n",
       "        <tr><td>...</td><td>...</td></tr>\n",
       "        <tr>\n",
       "          <td>9999</td><td>20.255251630959783</td>\n",
       "        </tr>\n",
       "        \n",
       "      </tbody>\n",
       "    </table>\n",
       "        "
      ],
      "text/plain": [
       "Index Result\n",
       "0     21.26228220149837\n",
       "1     21.352213904861582\n",
       "2     17.778095334610136\n",
       "3     15.551981105299499\n",
       "4     21.192407898562095\n",
       "5     21.20413091865305\n",
       "6     17.83782408430533\n",
       "7     17.382661816997597\n",
       "8     17.430064551483277\n",
       "....  ..................\n",
       "9999  20.255251630959783"
      ]
     },
     "execution_count": 9,
     "metadata": {},
     "output_type": "execute_result"
    }
   ],
   "source": [
    "# The 2nd parameter is the mathematical operation applied to each row of the random vector\n",
    "# Simulate 10,000 means of each random vector of 25 uniform distributed numbers: \n",
    "xmean = RV(P,mean).sim(10000)\n",
    "xmean"
   ]
  },
  {
   "cell_type": "code",
   "execution_count": 19,
   "id": "93dbe107",
   "metadata": {},
   "outputs": [
    {
     "data": {
      "image/png": "[encoded data removed]",
      "text/plain": [
       "<Figure size 432x288 with 1 Axes>"
      ]
     },
     "metadata": {
      "needs_background": "light"
     },
     "output_type": "display_data"
    },
    {
     "name": "stdout",
     "output_type": "stream",
     "text": [
      "20.000085247971903\n",
      "2.2866849870143624\n"
     ]
    }
   ],
   "source": [
    "plt.clf()\n",
    "xmean.plot()\n",
    "plt.show()\n",
    "\n",
    "print(xmean.mean())\n",
    "print(xmean.std())\n"
   ]
  },
  {
   "cell_type": "markdown",
   "id": "92e41d59",
   "metadata": {},
   "source": [
    "HOW SIMILAR OR DIFFERENT ARE THESE VALUES FROM THE MEAN AND STANDARD DEVIATION OF x?\n",
    "\n",
    "\n",
    "THE MEAN IS VERY SIMILAR, AS IT HAS ALMOST THE SAME VALUE. ON THE OTHER SIDE, THE STANDARD DEVIATION IS SIGNIFICANTLY DIFFERENT.\n",
    "\n",
    "\n",
    "\n",
    "WHAT DO YOU SEE IN THE ABOVE HISTOGRAM? DOES THE HISTOGRAM OF SAMPLE MEANS OF UNIFORM RANDOM VARIABLE LOOK LIKE A UNIFORM DISTRIBUTED VARIABLE? DO YOU SEE A LOGIC? BRIEFLY EXPLAIN WHAT YOU THINK.\n",
    "\n",
    "\n",
    "THE HISTOGRAM LOOKS LIKE A GAUSS BELL, MORE SIMILAR TO A NORMAL DISTRIBUTION INSTEAD OF A UNIFORM DISTRIBUTION.\n"
   ]
  },
  {
   "cell_type": "code",
   "execution_count": 11,
   "id": "4751e374",
   "metadata": {},
   "outputs": [
    {
     "data": {
      "image/png": "[encoded data removed]",
      "text/plain": [
       "<Figure size 432x288 with 1 Axes>"
      ]
     },
     "metadata": {
      "needs_background": "light"
     },
     "output_type": "display_data"
    }
   ],
   "source": [
    "plt.clf()\n",
    "xmean.plot()\n",
    "x.plot()\n",
    "plt.show()"
   ]
  },
  {
   "cell_type": "markdown",
   "id": "f478e984",
   "metadata": {},
   "source": [
    "WHAT DO YOU SEE? HOW THE HISTOGRAM OF X DIFFERS FROM THE HISTOGRAM OF THE SAMPLES OF X?\n",
    "\n",
    "\n",
    "I SEE THAT THE DISTRIBUTION IS NOTABLY DIFFERENT. THE FIRST SET OF DATA PRESENTS A UNIFORM DISTRIBUTION, WHILE THE SECOND SET OF DATA PRESENTS A NORMAL DISTRIBUTION.\n"
   ]
  },
  {
   "cell_type": "code",
   "execution_count": 12,
   "id": "9019dac6",
   "metadata": {},
   "outputs": [
    {
     "data": {
      "image/png": "[encoded data removed]",
      "text/plain": [
       "<Figure size 432x288 with 1 Axes>"
      ]
     },
     "metadata": {
      "needs_background": "light"
     },
     "output_type": "display_data"
    }
   ],
   "source": [
    "# clear the plot space:\n",
    "plt.clf()\n",
    "# Define the probability type of function as uniform (probability space)\n",
    "P = Normal(mean=20, sd=10)\n",
    "# Define Y as a random variable of the type P (normal)\n",
    "Y =RV(P)\n",
    "# Simulate 10,000 values of Y and save the in the x array: \n",
    "y=Y.sim(10000)\n",
    "y.plot()\n",
    "plt.show()"
   ]
  },
  {
   "cell_type": "code",
   "execution_count": 20,
   "id": "478f2be4",
   "metadata": {},
   "outputs": [
    {
     "name": "stdout",
     "output_type": "stream",
     "text": [
      "20.009483635605697\n",
      "9.999996459093277\n"
     ]
    }
   ],
   "source": [
    "print(y.mean())\n",
    "print(y.std())"
   ]
  },
  {
   "cell_type": "markdown",
   "id": "08f89e61",
   "metadata": {},
   "source": [
    "HOW SIMILAR OR DIFFERENT ARE THESE VALUES FROM THE MEAN AND STANDARD DEVIATION OF THE THEORETICAL MEAN (20) AND THE THEORETICAL STANDARD DEVIATION (10)?\n",
    "\n",
    "THEY ARE PRACTICALLY THE SAME. THE THEORETICAL VALUES CORRECTLY PREDICTED THE BEHAVIOUR\n",
    "\n"
   ]
  },
  {
   "cell_type": "markdown",
   "id": "a1057680",
   "metadata": {},
   "source": [
    "WHAT DO YOU SEE?\n",
    "\n",
    "\n",
    "I SEE THAT THE HISTOGRAM PRESENTS A NORMAL DISTRIBUTION, AS IT WAS EXPECTED"
   ]
  },
  {
   "cell_type": "code",
   "execution_count": 13,
   "id": "372b5833",
   "metadata": {},
   "outputs": [],
   "source": [
    "     # Define the probability space P as a vector of 25 normal random numbers:\n",
    "P = Normal(mean=20, sd=10) ** 25\n",
    "# Define RANDOMVECTOR as a vector of 25 random variables in the Probability space P \n",
    "RANDOMVECTOR = RV(P)\n",
    "# Simulate 10,000 random vectors with this distribution and save the in ymatrix: \n",
    "ymatrix=RANDOMVECTOR.sim(10000)"
   ]
  },
  {
   "cell_type": "code",
   "execution_count": 14,
   "id": "61c54d81",
   "metadata": {},
   "outputs": [
    {
     "data": {
      "text/html": [
       "\n",
       "    <table>\n",
       "      <thead>\n",
       "        <th width=\"10%\">Index</th>\n",
       "        <th width=\"90%\">Result</th>\n",
       "      </thead>\n",
       "      <tbody>\n",
       "        \n",
       "        <tr>\n",
       "          <td>0</td><td>(31.357242206591586, 19.803538115674787, 14.306726503992728, 30.004388833691927, 19.340426086728577,...</td>\n",
       "        </tr>\n",
       "        \n",
       "        <tr>\n",
       "          <td>1</td><td>(26.901961111302754, 20.96723991249708, 4.451779474668694, 29.982887851717198, 18.890409172269564, ....</td>\n",
       "        </tr>\n",
       "        \n",
       "        <tr>\n",
       "          <td>2</td><td>(22.82001800338416, 27.768985202827984, 20.64105716965629, 7.809288162826867, -1.925769550195895, .....</td>\n",
       "        </tr>\n",
       "        \n",
       "        <tr>\n",
       "          <td>3</td><td>(10.753246177775125, 22.474387758401424, 5.712332182135626, 15.259614420810756, 19.270996281879885, ...</td>\n",
       "        </tr>\n",
       "        \n",
       "        <tr>\n",
       "          <td>4</td><td>(23.95044322482885, 33.478705427306224, 16.66207287572615, 21.208445715722796, 17.359243571646218, ....</td>\n",
       "        </tr>\n",
       "        \n",
       "        <tr>\n",
       "          <td>5</td><td>(27.13736329617803, 22.95819624343482, 17.826436093218323, 21.877982596948524, 39.796160939808324, ....</td>\n",
       "        </tr>\n",
       "        \n",
       "        <tr>\n",
       "          <td>6</td><td>(15.60693715189161, 17.956564842332323, 19.109379694717695, 18.359447270130314, -3.678606786688242, ...</td>\n",
       "        </tr>\n",
       "        \n",
       "        <tr>\n",
       "          <td>7</td><td>(22.61321805385418, 20.988766315302822, 9.12185357960368, 26.49040917643339, 8.323749170999438, ...,...</td>\n",
       "        </tr>\n",
       "        \n",
       "        <tr>\n",
       "          <td>8</td><td>(21.37180415854426, 17.363267161679097, 32.8157448406889, 14.210078673619199, 11.427728115826804, .....</td>\n",
       "        </tr>\n",
       "        <tr><td>...</td><td>...</td></tr>\n",
       "        <tr>\n",
       "          <td>9999</td><td>(22.82659689837092, 22.158616193134957, 20.65965777496394, 8.478824678656622, 33.831119409407364, .....</td>\n",
       "        </tr>\n",
       "        \n",
       "      </tbody>\n",
       "    </table>\n",
       "        "
      ],
      "text/plain": [
       "Index Result\n",
       "0     (31.357242206591586, 19.803538115674787, 14.306726503992728, 30.004388833691927, 19.340426086728577, ..., 26.752957358471598)\n",
       "1     (26.901961111302754, 20.96723991249708, 4.451779474668694, 29.982887851717198, 18.890409172269564, ..., 24.95933320704278)\n",
       "2     (22.82001800338416, 27.768985202827984, 20.64105716965629, 7.809288162826867, -1.925769550195895, ..., 24.16518103773546)\n",
       "3     (10.753246177775125, 22.474387758401424, 5.712332182135626, 15.259614420810756, 19.270996281879885, ..., 0.6773327929264923)\n",
       "4     (23.95044322482885, 33.478705427306224, 16.66207287572615, 21.208445715722796, 17.359243571646218, ..., 29.500244953818274)\n",
       "5     (27.13736329617803, 22.95819624343482, 17.826436093218323, 21.877982596948524, 39.796160939808324, ..., 9.404915030651955)\n",
       "6     (15.60693715189161, 17.956564842332323, 19.109379694717695, 18.359447270130314, -3.678606786688242, ..., 19.183020178091212)\n",
       "7     (22.61321805385418, 20.988766315302822, 9.12185357960368, 26.49040917643339, 8.323749170999438, ..., 12.147272257027648)\n",
       "8     (21.37180415854426, 17.363267161679097, 32.8157448406889, 14.210078673619199, 11.427728115826804, ..., 32.04688417897522)\n",
       "....  ..........................................................................................................................\n",
       "9999  (22.82659689837092, 22.158616193134957, 20.65965777496394, 8.478824678656622, 33.831119409407364, ..., 17.113540040407067)"
      ]
     },
     "execution_count": 14,
     "metadata": {},
     "output_type": "execute_result"
    }
   ],
   "source": [
    "ymatrix"
   ]
  },
  {
   "cell_type": "code",
   "execution_count": 15,
   "id": "b58d13af",
   "metadata": {},
   "outputs": [
    {
     "data": {
      "text/html": [
       "\n",
       "    <table>\n",
       "      <thead>\n",
       "        <th width=\"10%\">Index</th>\n",
       "        <th width=\"90%\">Result</th>\n",
       "      </thead>\n",
       "      <tbody>\n",
       "        \n",
       "        <tr>\n",
       "          <td>0</td><td>23.50874907435988</td>\n",
       "        </tr>\n",
       "        \n",
       "        <tr>\n",
       "          <td>1</td><td>15.456530808361718</td>\n",
       "        </tr>\n",
       "        \n",
       "        <tr>\n",
       "          <td>2</td><td>15.501193183141204</td>\n",
       "        </tr>\n",
       "        \n",
       "        <tr>\n",
       "          <td>3</td><td>19.492116600310126</td>\n",
       "        </tr>\n",
       "        \n",
       "        <tr>\n",
       "          <td>4</td><td>20.629049000810827</td>\n",
       "        </tr>\n",
       "        \n",
       "        <tr>\n",
       "          <td>5</td><td>18.585145681089607</td>\n",
       "        </tr>\n",
       "        \n",
       "        <tr>\n",
       "          <td>6</td><td>19.141129147645753</td>\n",
       "        </tr>\n",
       "        \n",
       "        <tr>\n",
       "          <td>7</td><td>17.367491854590966</td>\n",
       "        </tr>\n",
       "        \n",
       "        <tr>\n",
       "          <td>8</td><td>19.233074795578126</td>\n",
       "        </tr>\n",
       "        <tr><td>...</td><td>...</td></tr>\n",
       "        <tr>\n",
       "          <td>9999</td><td>20.61075540542764</td>\n",
       "        </tr>\n",
       "        \n",
       "      </tbody>\n",
       "    </table>\n",
       "        "
      ],
      "text/plain": [
       "Index Result\n",
       "0     23.50874907435988\n",
       "1     15.456530808361718\n",
       "2     15.501193183141204\n",
       "3     19.492116600310126\n",
       "4     20.629049000810827\n",
       "5     18.585145681089607\n",
       "6     19.141129147645753\n",
       "7     17.367491854590966\n",
       "8     19.233074795578126\n",
       "....  .................\n",
       "9999  20.61075540542764"
      ]
     },
     "execution_count": 15,
     "metadata": {},
     "output_type": "execute_result"
    }
   ],
   "source": [
    "# The 2nd parameter is the mathematical operation applied to each row of the random vector\n",
    "# Simulate 10,000 means of each random vector of 25 uniform distributed numbers: \n",
    "ymean = RV(P,mean).sim(10000)\n",
    "ymean"
   ]
  },
  {
   "cell_type": "code",
   "execution_count": 16,
   "id": "784cc037",
   "metadata": {},
   "outputs": [
    {
     "data": {
      "image/png": "[encoded data removed]",
      "text/plain": [
       "<Figure size 432x288 with 1 Axes>"
      ]
     },
     "metadata": {
      "needs_background": "light"
     },
     "output_type": "display_data"
    }
   ],
   "source": [
    "plt.clf()\n",
    "ymean.plot()\n",
    "plt.show()"
   ]
  },
  {
   "cell_type": "code",
   "execution_count": 17,
   "id": "04f1bd14",
   "metadata": {},
   "outputs": [
    {
     "data": {
      "text/plain": [
       "2.0161937625244235"
      ]
     },
     "execution_count": 17,
     "metadata": {},
     "output_type": "execute_result"
    }
   ],
   "source": [
    "ymean.std()"
   ]
  },
  {
   "cell_type": "code",
   "execution_count": 23,
   "id": "82c89578",
   "metadata": {},
   "outputs": [
    {
     "name": "stdout",
     "output_type": "stream",
     "text": [
      "19.98769028678105\n",
      "2.0161937625244235\n"
     ]
    }
   ],
   "source": [
    "print(ymean.mean())\n",
    "print(ymean.std())"
   ]
  },
  {
   "cell_type": "markdown",
   "id": "ef0271fd",
   "metadata": {},
   "source": [
    "CALCULATE THE MEAN AND STANDARD DEVIATION OF THE ymean VARIABLE. HOW SIMILAR OR DIFFERENT ARE THESE VALUES FROM THE MEAN AND STANDARD DEVIATION OF y?\n",
    "\n",
    "\n",
    "THE VALUE OF THE MEAN STAYS THE SAME, BUT THE VALUE OF THE STANDARD DEVIATION DIFFERS A LOT, AS IT GETS REDUCED TO 2, COMPARED TO 10 (IN Y). THIS BEHAVIOUR IS VERY SIMILAR TO THE ONE OBSERVED PREVIOUSLY WITH THE X'S\n",
    "\n",
    "\n",
    "THE PREVIOUS HISTOGRAM LOOKS LIKE A NORMAL DISTRIBUTION WITH A REDUCTED RANGE, AND A RELATIVELY HIGH DENSITY FOR EACH ELEMENT"
   ]
  },
  {
   "cell_type": "code",
   "execution_count": 18,
   "id": "130c40f6",
   "metadata": {
    "scrolled": true
   },
   "outputs": [
    {
     "data": {
      "image/png": "[encoded data removed]",
      "text/plain": [
       "<Figure size 432x288 with 1 Axes>"
      ]
     },
     "metadata": {
      "needs_background": "light"
     },
     "output_type": "display_data"
    }
   ],
   "source": [
    "plt.clf()\n",
    "ymean.plot()\n",
    "y.plot()\n",
    "plt.show()"
   ]
  },
  {
   "cell_type": "markdown",
   "id": "125210ee",
   "metadata": {},
   "source": [
    "I THINK THAT THE BLUE ONE LOOKS TALLER BECAUSE IT WAS MADE ON A SMALLER RANGE OF VALUES, MAYBE BECAUSE IT BELONGS TO THE MEAN, THUS REDUCTING THE RANGE OF VALUES. THE SMALLER RANGE GIVES EACH VALUE A HIGHER DENSITY COMPARED TO THE Y DISTRIBUTION."
   ]
  },
  {
   "cell_type": "markdown",
   "id": "644b3070",
   "metadata": {},
   "source": [
    "AFTER YOU PLAYED WITH THIS MONTE CARLO SIMULATIONS, EXPLAIN WHAT THE CENTRAL LIMIT THEOREM IS WITH YOUR OWN WORDS.\n",
    "\n",
    "I WOULD DESCRIBE THE CLT AS THE TREND OF THE DATA BEHAVING AS A NORMAL DISTRIBUTION WHEN THE DATASET IS BIG ENOUGH, \n",
    "IT DOESNT MATTER IF IT IS RANDOM"
   ]
  },
  {
   "cell_type": "markdown",
   "id": "6194fb1a",
   "metadata": {},
   "source": [
    "4. Hypotesis testing\n"
   ]
  },
  {
   "cell_type": "code",
   "execution_count": 18,
   "id": "ac4eae58",
   "metadata": {},
   "outputs": [],
   "source": [
    "import numpy as np\n",
    "import pandas as pd\n",
    "import pandas_datareader as pdr\n",
    "import math \n",
    "MSFT = pdr.get_data_yahoo('MSFT',\n",
    "start=\"01/01/2017\", interval=\"m\")\n",
    "MSFT[\"r\"]= (np.log(MSFT[\"Adj Close\"]) - np.log(MSFT[\"Adj Close\"].shift(1)))"
   ]
  },
  {
   "cell_type": "code",
   "execution_count": 19,
   "id": "72ec5550",
   "metadata": {},
   "outputs": [
    {
     "name": "stdout",
     "output_type": "stream",
     "text": [
      "                  High         Low        Open       Close       Volume  \\\n",
      "Date                                                                      \n",
      "2017-01-01   65.910004   61.950001   62.790001   64.650002  493453500.0   \n",
      "2017-02-01   65.239998   62.750000   64.360001   63.980000  440744000.0   \n",
      "2017-03-01   66.190002   63.619999   64.129997   65.860001  489169700.0   \n",
      "2017-04-01   69.139999   64.849998   65.809998   68.459999  433191200.0   \n",
      "2017-05-01   70.739998   67.139999   68.680000   69.839996  517218500.0   \n",
      "...                ...         ...         ...         ...          ...   \n",
      "2022-05-01  290.880005  246.440002  277.709991  271.869995  742902000.0   \n",
      "2022-06-01  277.690002  241.509995  275.200012  256.829987  621372300.0   \n",
      "2022-07-01  282.000000  245.940002  256.390015  280.739990  534868400.0   \n",
      "2022-08-01  291.910004  272.380005  277.820007  291.910004  212179300.0   \n",
      "2022-08-15  292.679901  290.130005  291.000000  290.984985    6481197.0   \n",
      "\n",
      "             Adj Close         r  \n",
      "Date                              \n",
      "2017-01-01   59.846748       NaN  \n",
      "2017-02-01   59.226513 -0.010418  \n",
      "2017-03-01   61.336441  0.035005  \n",
      "2017-04-01   63.757862  0.038718  \n",
      "2017-05-01   65.043068  0.019957  \n",
      "...                ...       ...  \n",
      "2022-05-01  271.238251 -0.020569  \n",
      "2022-06-01  256.829987 -0.054583  \n",
      "2022-07-01  280.739990  0.089015  \n",
      "2022-08-01  291.910004  0.039017  \n",
      "2022-08-15  290.984985 -0.003174  \n",
      "\n",
      "[69 rows x 7 columns]\n"
     ]
    }
   ],
   "source": [
    "#DEFINE THE VARIABLE OF STUDY. In this case it will be the mean of MSFT cc returns\n",
    "print(MSFT)"
   ]
  },
  {
   "cell_type": "markdown",
   "id": "38e78052",
   "metadata": {},
   "source": [
    " WRITE THE NULL AND THE ALTERNATIVE HYPOTHESIS.\n",
    " \n",
    "* THE NULL HYPOTHESIS IT THAT MSFT MEAN RETURNS ARE GREATER THAT ZERO\n",
    "\n",
    "* THE ALTERNATIVE HYPOTHESIS IS THAT MSFT MEAN RETURNS ARE SMALLER THAN ZERO\n"
   ]
  },
  {
   "cell_type": "code",
   "execution_count": 20,
   "id": "4860ded1",
   "metadata": {},
   "outputs": [
    {
     "name": "stdout",
     "output_type": "stream",
     "text": [
      "High         8.864711e+01\n",
      "Low          7.860650e+01\n",
      "Open         8.466062e+01\n",
      "Close        8.461789e+01\n",
      "Volume       2.059650e+08\n",
      "Adj Close    8.589368e+01\n",
      "r            5.418448e-02\n",
      "dtype: float64\n"
     ]
    }
   ],
   "source": [
    "#CALCULATE THE STANDARD ERROR, WHICH IS THE STANDARD DEVIATION OF THE VARIABLE OF STUDY.\n",
    "print(MSFT.std())\n",
    "MSFT_MEAN = MSFT['r'].mean()\n",
    "MSFT_STD = MSFT['r'].std()"
   ]
  },
  {
   "cell_type": "code",
   "execution_count": 21,
   "id": "8792be72",
   "metadata": {},
   "outputs": [],
   "source": [
    "MSFT_std_grouped = MSFT_STD / math.sqrt(60)"
   ]
  },
  {
   "cell_type": "code",
   "execution_count": 23,
   "id": "605727bb",
   "metadata": {},
   "outputs": [
    {
     "data": {
      "text/plain": [
       "3.3247331040333914"
      ]
     },
     "execution_count": 23,
     "metadata": {},
     "output_type": "execute_result"
    }
   ],
   "source": [
    "#CALCULATE THE t-statistic (t-value). EXPLAIN/INTERPRET THE t-statistic.\n",
    "\n",
    "t_value= (MSFT_MEAN -0) / MSFT_std_grouped\n",
    "t_value"
   ]
  },
  {
   "cell_type": "code",
   "execution_count": 24,
   "id": "6c96738c",
   "metadata": {},
   "outputs": [
    {
     "data": {
      "text/plain": [
       "0.009266754281723261"
      ]
     },
     "execution_count": 24,
     "metadata": {},
     "output_type": "execute_result"
    }
   ],
   "source": [
    "#CALCULATE THE 95% CONFIDENCE INTERVAL OF THE SAMPLE MEAN\n",
    "min_ci = MSFT_MEAN - 2 * (MSFT_std_grouped)\n",
    "min_ci\n"
   ]
  },
  {
   "cell_type": "code",
   "execution_count": 26,
   "id": "25ea8dfc",
   "metadata": {},
   "outputs": [
    {
     "data": {
      "text/plain": [
       "0.037247497734148316"
      ]
     },
     "execution_count": 26,
     "metadata": {},
     "output_type": "execute_result"
    }
   ],
   "source": [
    "max_ci = MSFT_MEAN + 2 * (MSFT_std_grouped)\n",
    "max_ci"
   ]
  },
  {
   "cell_type": "markdown",
   "id": "c0477154",
   "metadata": {},
   "source": [
    "# WRITE YOUR CONCLUSION OF THE t-TEST\n",
    "The alternative hypothesis is confirmed \n"
   ]
  },
  {
   "cell_type": "code",
   "execution_count": null,
   "id": "8c60cf67",
   "metadata": {},
   "outputs": [],
   "source": []
  }
 ],
 "metadata": {
  "kernelspec": {
   "display_name": "Python 3",
   "language": "python",
   "name": "python3"
  },
  "language_info": {
   "codemirror_mode": {
    "name": "ipython",
    "version": 3
   },
   "file_extension": ".py",
   "mimetype": "text/x-python",
   "name": "python",
   "nbconvert_exporter": "python",
   "pygments_lexer": "ipython3",
   "version": "3.8.8"
  }
 },
 "nbformat": 4,
 "nbformat_minor": 5
}
