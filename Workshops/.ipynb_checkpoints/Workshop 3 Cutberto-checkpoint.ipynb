{
 "cells": [
  {
   "cell_type": "markdown",
   "id": "46ca60e2",
   "metadata": {},
   "source": [
    "3.1 CHALLENGE - IS AMD MEAN RETURN HIGHER THAN INTEL MEAN RETURN?"
   ]
  },
  {
   "cell_type": "code",
   "execution_count": 21,
   "id": "bbeb5ddc",
   "metadata": {},
   "outputs": [],
   "source": [
    "import numpy as np\n",
    "import pandas as pd\n",
    "import pandas_datareader as pdr\n",
    "import math \n",
    "INTC = pdr.get_data_yahoo('INTC',\n",
    "start=\"01/01/2019\", interval=\"m\")\n",
    "INTC[\"r\"]= (np.log(INTC[\"Adj Close\"]) - np.log(INTC[\"Adj Close\"].shift(1)))\n",
    "AMD = pdr.get_data_yahoo('AMD',\n",
    "start=\"01/01/2019\", interval=\"m\")\n",
    "AMD[\"r\"]= (np.log(AMD[\"Adj Close\"]) - np.log(AMD[\"Adj Close\"].shift(1)))\n",
    "N=45"
   ]
  },
  {
   "cell_type": "code",
   "execution_count": 7,
   "id": "8465148e",
   "metadata": {},
   "outputs": [
    {
     "name": "stdout",
     "output_type": "stream",
     "text": [
      "                 High        Low       Open      Close      Volume  Adj Close  \\\n",
      "Date                                                                            \n",
      "2019-01-01  25.139999  16.940001  18.010000  24.410000  2311913200  24.410000   \n",
      "2019-02-01  25.520000  22.270000  24.610001  23.530001  1301360800  23.530001   \n",
      "2019-03-01  28.110001  21.040001  23.969999  25.520000  1499160400  25.520000   \n",
      "2019-04-01  29.950001  25.830000  26.420000  27.629999  1275793800  27.629999   \n",
      "2019-05-01  29.670000  26.030001  28.950001  27.410000  1675142900  27.410000   \n",
      "\n",
      "                   r  \n",
      "Date                  \n",
      "2019-01-01       NaN  \n",
      "2019-02-01 -0.036717  \n",
      "2019-03-01  0.081186  \n",
      "2019-04-01  0.079440  \n",
      "2019-05-01 -0.007994  \n"
     ]
    }
   ],
   "source": [
    "print(AMD.head())"
   ]
  },
  {
   "cell_type": "code",
   "execution_count": 20,
   "id": "f87ebd61",
   "metadata": {},
   "outputs": [
    {
     "name": "stdout",
     "output_type": "stream",
     "text": [
      "<class 'pandas.core.frame.DataFrame'>\n",
      "DatetimeIndex: 45 entries, 2019-01-01 to 2022-08-16\n",
      "Data columns (total 7 columns):\n",
      " #   Column     Non-Null Count  Dtype  \n",
      "---  ------     --------------  -----  \n",
      " 0   High       45 non-null     float64\n",
      " 1   Low        45 non-null     float64\n",
      " 2   Open       45 non-null     float64\n",
      " 3   Close      45 non-null     float64\n",
      " 4   Volume     45 non-null     float64\n",
      " 5   Adj Close  45 non-null     float64\n",
      " 6   r          44 non-null     float64\n",
      "dtypes: float64(7)\n",
      "memory usage: 2.8 KB\n",
      "None\n"
     ]
    }
   ],
   "source": [
    "print(INTC.info())"
   ]
  },
  {
   "cell_type": "code",
   "execution_count": 18,
   "id": "cd97f66f",
   "metadata": {},
   "outputs": [
    {
     "name": "stdout",
     "output_type": "stream",
     "text": [
      "High         7.544705e+00\n",
      "Low          6.196693e+00\n",
      "Open         6.769488e+00\n",
      "Close        7.046460e+00\n",
      "Volume       1.902493e+08\n",
      "Adj Close    6.273778e+00\n",
      "r            8.315048e-02\n",
      "dtype: float64\n"
     ]
    }
   ],
   "source": [
    "#CALCULATE THE STANDARD ERROR, WHICH IS THE STANDARD DEVIATION OF THE VARIABLE OF STUDY.\n",
    "print(INTC.std())\n",
    "INTC_MEAN = INTC['r'].mean()\n",
    "INTC_STD = INTC['r'].std()\n",
    "INTC_VAR = INTC['r'].var()"
   ]
  },
  {
   "cell_type": "code",
   "execution_count": 17,
   "id": "a5f48281",
   "metadata": {},
   "outputs": [
    {
     "name": "stdout",
     "output_type": "stream",
     "text": [
      "High         3.855015e+01\n",
      "Low          3.039881e+01\n",
      "Open         3.583925e+01\n",
      "Close        3.497061e+01\n",
      "Volume       5.248918e+08\n",
      "Adj Close    3.497061e+01\n",
      "r            1.347852e-01\n",
      "dtype: float64\n"
     ]
    }
   ],
   "source": [
    "print(AMD.std())\n",
    "AMD_MEAN = AMD['r'].mean()\n",
    "AMD_STD = AMD['r'].std()\n",
    "AMD_VAR = AMD['r'].var()"
   ]
  },
  {
   "cell_type": "code",
   "execution_count": 22,
   "id": "65258579",
   "metadata": {},
   "outputs": [
    {
     "data": {
      "text/plain": [
       "0.003519332118328178"
      ]
     },
     "execution_count": 22,
     "metadata": {},
     "output_type": "execute_result"
    }
   ],
   "source": [
    "STD_DIFF = (math.sqrt(AMD_VAR + INTC_VAR))/N\n",
    "STD_DIFF"
   ]
  },
  {
   "cell_type": "code",
   "execution_count": 24,
   "id": "e582d540",
   "metadata": {},
   "outputs": [
    {
     "data": {
      "text/plain": [
       "10.176134148370602"
      ]
     },
     "execution_count": 24,
     "metadata": {},
     "output_type": "execute_result"
    }
   ],
   "source": [
    "#CALCULATE THE t-statistic (t-value). EXPLAIN/INTERPRET THE t-statistic.\n",
    "t_value= ((AMD_MEAN - INTC_MEAN) -0) / STD_DIFF\n",
    "t_value"
   ]
  },
  {
   "cell_type": "code",
   "execution_count": null,
   "id": "5af3cbd1",
   "metadata": {},
   "outputs": [],
   "source": []
  }
 ],
 "metadata": {
  "kernelspec": {
   "display_name": "Python 3",
   "language": "python",
   "name": "python3"
  },
  "language_info": {
   "codemirror_mode": {
    "name": "ipython",
    "version": 3
   },
   "file_extension": ".py",
   "mimetype": "text/x-python",
   "name": "python",
   "nbconvert_exporter": "python",
   "pygments_lexer": "ipython3",
   "version": "3.8.8"
  }
 },
 "nbformat": 4,
 "nbformat_minor": 5
}
